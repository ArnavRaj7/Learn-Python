{
 "cells": [
  {
   "cell_type": "code",
   "execution_count": 1,
   "id": "be09c156-a081-4a48-90ad-6488e88356ef",
   "metadata": {},
   "outputs": [],
   "source": [
    "str=\"arnav is the best\""
   ]
  },
  {
   "cell_type": "code",
   "execution_count": 6,
   "id": "39f75851-0f24-4a51-bc64-f3f99e676af6",
   "metadata": {},
   "outputs": [
    {
     "data": {
      "text/plain": [
       "'ARNAV IS THE BEST'"
      ]
     },
     "execution_count": 6,
     "metadata": {},
     "output_type": "execute_result"
    }
   ],
   "source": [
    "str.swapcase()"
   ]
  },
  {
   "cell_type": "code",
   "execution_count": 5,
   "id": "28246e1b-a553-42d2-a705-476a444e3725",
   "metadata": {},
   "outputs": [
    {
     "data": {
      "text/plain": [
       "'Arnav Is The Best'"
      ]
     },
     "execution_count": 5,
     "metadata": {},
     "output_type": "execute_result"
    }
   ],
   "source": [
    "str.title()"
   ]
  },
  {
   "cell_type": "code",
   "execution_count": 8,
   "id": "91707c0d-887f-44cd-a54d-8eb773a995e8",
   "metadata": {},
   "outputs": [
    {
     "data": {
      "text/plain": [
       "'Arnav is the best'"
      ]
     },
     "execution_count": 8,
     "metadata": {},
     "output_type": "execute_result"
    }
   ],
   "source": [
    "str.capitalize()"
   ]
  },
  {
   "cell_type": "code",
   "execution_count": 9,
   "id": "a8ce2468-d35c-47a5-ba51-30b9b0bac45d",
   "metadata": {},
   "outputs": [
    {
     "data": {
      "text/plain": [
       "'arnav is the best'"
      ]
     },
     "execution_count": 9,
     "metadata": {},
     "output_type": "execute_result"
    }
   ],
   "source": [
    "str.lower()"
   ]
  },
  {
   "cell_type": "code",
   "execution_count": 10,
   "id": "70544fa8-5d66-41ac-a3fe-115492fc7ef1",
   "metadata": {},
   "outputs": [
    {
     "data": {
      "text/plain": [
       "'ARNAV IS THE BEST'"
      ]
     },
     "execution_count": 10,
     "metadata": {},
     "output_type": "execute_result"
    }
   ],
   "source": [
    "str.upper()"
   ]
  },
  {
   "cell_type": "markdown",
   "id": "a48f8fbd-4bf7-4669-a4c8-9fc0838a9d1e",
   "metadata": {},
   "source": [
    "# Reversing a String"
   ]
  },
  {
   "cell_type": "markdown",
   "id": "96bf3734-92d0-47b7-add0-b39e6bcf9238",
   "metadata": {},
   "source": [
    "## With Slicing\n",
    "\n",
    "str[::-1}"
   ]
  },
  {
   "cell_type": "code",
   "execution_count": 11,
   "id": "a9e523d1-5670-467b-bde8-37622d1bfe8d",
   "metadata": {},
   "outputs": [
    {
     "data": {
      "text/plain": [
       "'tseb eht si vanra'"
      ]
     },
     "execution_count": 11,
     "metadata": {},
     "output_type": "execute_result"
    }
   ],
   "source": [
    "str[::-1]"
   ]
  },
  {
   "cell_type": "markdown",
   "id": "ccee74bf-0589-4b0e-b741-c872ff6d7934",
   "metadata": {},
   "source": [
    "#2 Join Method"
   ]
  },
  {
   "cell_type": "code",
   "execution_count": 4,
   "id": "4ef71e6b-7173-4156-98a0-45ce29ac2792",
   "metadata": {},
   "outputs": [],
   "source": [
    "fact=\"arnav is the best\""
   ]
  },
  {
   "cell_type": "code",
   "execution_count": 5,
   "id": "a82f7822-184d-47ea-9a0a-ed5883b4fb62",
   "metadata": {},
   "outputs": [
    {
     "data": {
      "text/plain": [
       "<reversed at 0x7fadc81cfbe0>"
      ]
     },
     "execution_count": 5,
     "metadata": {},
     "output_type": "execute_result"
    }
   ],
   "source": [
    "reversed(fact)"
   ]
  },
  {
   "cell_type": "code",
   "execution_count": 6,
   "id": "6197e440-2bb4-4c0e-b3c2-1a64313c3c54",
   "metadata": {},
   "outputs": [
    {
     "data": {
      "text/plain": [
       "'tseb eht si vanra'"
      ]
     },
     "execution_count": 6,
     "metadata": {},
     "output_type": "execute_result"
    }
   ],
   "source": [
    "''.join(reversed(fact))"
   ]
  },
  {
   "cell_type": "code",
   "execution_count": 9,
   "id": "9e8982f4-d77f-4234-9102-c6f1cbc8da11",
   "metadata": {},
   "outputs": [
    {
     "data": {
      "text/plain": [
       "'lARNAVaARNAVkARNAVhARNAVa'"
      ]
     },
     "execution_count": 9,
     "metadata": {},
     "output_type": "execute_result"
    }
   ],
   "source": [
    "\"ARNAV\".join(\"lakha\")"
   ]
  },
  {
   "cell_type": "code",
   "execution_count": 10,
   "id": "70568d4f-3c9a-4a12-ba54-4134d1ce54c9",
   "metadata": {},
   "outputs": [
    {
     "data": {
      "text/plain": [
       "'t s e b   e h t   s i   v a n r a'"
      ]
     },
     "execution_count": 10,
     "metadata": {},
     "output_type": "execute_result"
    }
   ],
   "source": [
    "' '.join(reversed(fact))"
   ]
  },
  {
   "cell_type": "code",
   "execution_count": 11,
   "id": "5676664c-6a1c-4daf-bd7f-4ed678a7b5d1",
   "metadata": {},
   "outputs": [
    {
     "data": {
      "text/plain": [
       "['t',\n",
       " 's',\n",
       " 'e',\n",
       " 'b',\n",
       " ' ',\n",
       " 'e',\n",
       " 'h',\n",
       " 't',\n",
       " ' ',\n",
       " 's',\n",
       " 'i',\n",
       " ' ',\n",
       " 'v',\n",
       " 'a',\n",
       " 'n',\n",
       " 'r',\n",
       " 'a']"
      ]
     },
     "execution_count": 11,
     "metadata": {},
     "output_type": "execute_result"
    }
   ],
   "source": [
    "# Typecasting\n",
    "list(reversed(fact))"
   ]
  },
  {
   "cell_type": "code",
   "execution_count": 1,
   "id": "0ce9f226-038c-462d-8895-c7bb47a51fff",
   "metadata": {},
   "outputs": [],
   "source": [
    "xyz=\"arnav\""
   ]
  },
  {
   "cell_type": "code",
   "execution_count": 2,
   "id": "f13b2648-5779-4f6e-8e2d-27eae1ed1da3",
   "metadata": {},
   "outputs": [
    {
     "data": {
      "text/plain": [
       "['v', 'a', 'n', 'r', 'a']"
      ]
     },
     "execution_count": 2,
     "metadata": {},
     "output_type": "execute_result"
    }
   ],
   "source": [
    "list(reversed(xyz))"
   ]
  },
  {
   "cell_type": "code",
   "execution_count": 3,
   "id": "c589e397-d2d1-45cd-a4fc-9dd156784d14",
   "metadata": {},
   "outputs": [
    {
     "data": {
      "text/plain": [
       "['a', 'r', 'n', 'a', 'v']"
      ]
     },
     "execution_count": 3,
     "metadata": {},
     "output_type": "execute_result"
    }
   ],
   "source": [
    "list(xyz)"
   ]
  },
  {
   "cell_type": "code",
   "execution_count": 4,
   "id": "efa22504-b17d-4902-82af-d7a83b137065",
   "metadata": {},
   "outputs": [
    {
     "name": "stdout",
     "output_type": "stream",
     "text": [
      "vanra"
     ]
    }
   ],
   "source": [
    "for i in list(reversed(xyz)):\n",
    "    print(i,end=\"\")"
   ]
  },
  {
   "cell_type": "code",
   "execution_count": 5,
   "id": "c05cfafa-167f-4973-9180-90bbe5099e41",
   "metadata": {},
   "outputs": [],
   "source": [
    "## Removing Character from the end of a string\n"
   ]
  },
  {
   "cell_type": "code",
   "execution_count": 6,
   "id": "35765a90-3d35-4448-8f95-3662248c312d",
   "metadata": {},
   "outputs": [],
   "source": [
    "# Removing Spaces from string ends\n",
    "abc=\" Millions \""
   ]
  },
  {
   "cell_type": "code",
   "execution_count": 8,
   "id": "e4b3f62c-490c-4107-8ad9-8cceb7a24300",
   "metadata": {},
   "outputs": [
    {
     "data": {
      "text/plain": [
       "'Millions'"
      ]
     },
     "execution_count": 8,
     "metadata": {},
     "output_type": "execute_result"
    }
   ],
   "source": [
    "#1. remove both spaces\n",
    "abc.strip(\" \")"
   ]
  },
  {
   "cell_type": "code",
   "execution_count": 9,
   "id": "20ad05af-355f-444b-8066-b5c568ef98a9",
   "metadata": {},
   "outputs": [
    {
     "data": {
      "text/plain": [
       "'Millions '"
      ]
     },
     "execution_count": 9,
     "metadata": {},
     "output_type": "execute_result"
    }
   ],
   "source": [
    "#2. remove leading space\n",
    "abc.lstrip(\" \")"
   ]
  },
  {
   "cell_type": "code",
   "execution_count": null,
   "id": "ccaba712-25d4-424a-a949-97d5350dfd03",
   "metadata": {},
   "outputs": [],
   "source": []
  },
  {
   "cell_type": "code",
   "execution_count": 10,
   "id": "000ad590-80e6-4dc6-9f08-6be7b3737659",
   "metadata": {},
   "outputs": [
    {
     "data": {
      "text/plain": [
       "' Millions'"
      ]
     },
     "execution_count": 10,
     "metadata": {},
     "output_type": "execute_result"
    }
   ],
   "source": [
    "#3. Remove Right space\n",
    "abc.rstrip(\" \")"
   ]
  },
  {
   "cell_type": "code",
   "execution_count": 12,
   "id": "2f5e4651-d21d-4cdd-8382-5ce1191a5938",
   "metadata": {},
   "outputs": [],
   "source": [
    "#Replacing an element in a string\n",
    "abcd=\"Arnav will be the Best\""
   ]
  },
  {
   "cell_type": "code",
   "execution_count": 13,
   "id": "2a20a8ad-ed4a-4ca2-9b63-77137a344c87",
   "metadata": {},
   "outputs": [
    {
     "name": "stdout",
     "output_type": "stream",
     "text": [
      "Arnav will be the Best\n"
     ]
    }
   ],
   "source": [
    "print(abcd)"
   ]
  },
  {
   "cell_type": "code",
   "execution_count": 14,
   "id": "9b89bf2e-495c-48a0-9097-d5f55c5e6b46",
   "metadata": {},
   "outputs": [
    {
     "data": {
      "text/plain": [
       "'Arnav is the Best'"
      ]
     },
     "execution_count": 14,
     "metadata": {},
     "output_type": "execute_result"
    }
   ],
   "source": [
    "abcd.replace(\"will be\",\"is\")"
   ]
  },
  {
   "cell_type": "code",
   "execution_count": 2,
   "id": "a8a07a9d-2178-46f8-a0b9-56db2fed1903",
   "metadata": {},
   "outputs": [],
   "source": [
    "qw=\" Welcome to Dat cience\""
   ]
  },
  {
   "cell_type": "code",
   "execution_count": 18,
   "id": "612da123-7340-47e4-af88-4e5a4b9f422c",
   "metadata": {},
   "outputs": [
    {
     "data": {
      "text/plain": [
       "' Welcome to Data Science'"
      ]
     },
     "execution_count": 18,
     "metadata": {},
     "output_type": "execute_result"
    }
   ],
   "source": [
    "qw.replace(\"Dat cience\", \"Data Science\")"
   ]
  },
  {
   "cell_type": "code",
   "execution_count": 19,
   "id": "c5818dc6-cd13-442d-a7a9-5e596e78a6bb",
   "metadata": {},
   "outputs": [
    {
     "data": {
      "text/plain": [
       "False"
      ]
     },
     "execution_count": 19,
     "metadata": {},
     "output_type": "execute_result"
    }
   ],
   "source": [
    "qw.isupper()"
   ]
  },
  {
   "cell_type": "code",
   "execution_count": 20,
   "id": "d5de05c1-04d3-4942-8170-8cbfee83fa0a",
   "metadata": {},
   "outputs": [
    {
     "data": {
      "text/plain": [
       "False"
      ]
     },
     "execution_count": 20,
     "metadata": {},
     "output_type": "execute_result"
    }
   ],
   "source": [
    "qw.islower()"
   ]
  },
  {
   "cell_type": "code",
   "execution_count": 22,
   "id": "c1eaa4f7-2a1d-443c-a741-61af7de0ce16",
   "metadata": {},
   "outputs": [
    {
     "data": {
      "text/plain": [
       "False"
      ]
     },
     "execution_count": 22,
     "metadata": {},
     "output_type": "execute_result"
    }
   ],
   "source": [
    "qw.isspace()"
   ]
  },
  {
   "cell_type": "code",
   "execution_count": 24,
   "id": "13211fcd-d584-42fc-86f3-e55fa028975c",
   "metadata": {},
   "outputs": [
    {
     "name": "stdout",
     "output_type": "stream",
     "text": [
      "NO\n"
     ]
    }
   ],
   "source": [
    "if qw.isspace():\n",
    "    print(\"YES\")\n",
    "else:\n",
    "    print(\"NO\")\n",
    "            "
   ]
  },
  {
   "cell_type": "code",
   "execution_count": 25,
   "id": "893e7285-98c8-409f-952a-abee86ad8c8d",
   "metadata": {},
   "outputs": [
    {
     "data": {
      "text/plain": [
       "True"
      ]
     },
     "execution_count": 25,
     "metadata": {},
     "output_type": "execute_result"
    }
   ],
   "source": [
    "# Check is string ends with a certain element\n",
    "qw.endswith('e')"
   ]
  },
  {
   "cell_type": "code",
   "execution_count": 26,
   "id": "2b809cbe-f2c6-4df1-93d9-efe79d3a5037",
   "metadata": {},
   "outputs": [
    {
     "data": {
      "text/plain": [
       "False"
      ]
     },
     "execution_count": 26,
     "metadata": {},
     "output_type": "execute_result"
    }
   ],
   "source": [
    "# Check is string starts with a certain element\n",
    "qw.startswith('W')"
   ]
  },
  {
   "cell_type": "code",
   "execution_count": 28,
   "id": "b73a569e-b3e9-40b2-87b4-4426299c3438",
   "metadata": {},
   "outputs": [
    {
     "data": {
      "text/plain": [
       "False"
      ]
     },
     "execution_count": 28,
     "metadata": {},
     "output_type": "execute_result"
    }
   ],
   "source": [
    "# Check if Alpha-Numeric\n",
    "qw.isalnum()"
   ]
  },
  {
   "cell_type": "code",
   "execution_count": 29,
   "id": "2b0f15a5-c9e9-455b-ab5c-611d20b9b6bb",
   "metadata": {},
   "outputs": [
    {
     "data": {
      "text/plain": [
       "22"
      ]
     },
     "execution_count": 29,
     "metadata": {},
     "output_type": "execute_result"
    }
   ],
   "source": [
    "# Check Length of a string\n",
    "\n",
    "len(qw)"
   ]
  },
  {
   "cell_type": "code",
   "execution_count": 33,
   "id": "20c2beff-e410-452f-bf08-3a0ec8aa9cba",
   "metadata": {},
   "outputs": [
    {
     "name": "stdout",
     "output_type": "stream",
     "text": [
      "22\n"
     ]
    }
   ],
   "source": [
    "count =0\n",
    "for i in qw:\n",
    "    count = count +1\n",
    "print(count)"
   ]
  },
  {
   "cell_type": "code",
   "execution_count": 34,
   "id": "03299af7-693e-4373-9470-3819a850de2e",
   "metadata": {},
   "outputs": [
    {
     "data": {
      "text/plain": [
       "' Welcome to Dat cience'"
      ]
     },
     "execution_count": 34,
     "metadata": {},
     "output_type": "execute_result"
    }
   ],
   "source": [
    "# Display a String\n",
    "\n",
    "qw"
   ]
  },
  {
   "cell_type": "code",
   "execution_count": 35,
   "id": "56d11f49-3a93-4342-97a3-28564a108118",
   "metadata": {},
   "outputs": [
    {
     "data": {
      "text/plain": [
       "'c'"
      ]
     },
     "execution_count": 35,
     "metadata": {},
     "output_type": "execute_result"
    }
   ],
   "source": [
    "qw[4]"
   ]
  },
  {
   "cell_type": "code",
   "execution_count": 38,
   "id": "18db124c-ee55-4b2c-98b3-39c396919eb6",
   "metadata": {},
   "outputs": [
    {
     "name": "stdout",
     "output_type": "stream",
     "text": [
      " \n",
      "W\n",
      "e\n",
      "l\n",
      "c\n",
      "o\n",
      "m\n",
      "e\n",
      " \n",
      "t\n",
      "o\n",
      " \n",
      "D\n",
      "a\n",
      "t\n",
      " \n",
      "c\n",
      "i\n",
      "e\n",
      "n\n",
      "c\n",
      "e\n"
     ]
    }
   ],
   "source": [
    "for i in range(len(qw)):\n",
    "    print(qw[i])"
   ]
  },
  {
   "cell_type": "code",
   "execution_count": 4,
   "id": "d322261e-d9b0-4f8c-87ee-d84599a59595",
   "metadata": {},
   "outputs": [
    {
     "name": "stdout",
     "output_type": "stream",
     "text": [
      "21 = e\n",
      "20 = c\n",
      "19 = n\n",
      "18 = e\n",
      "17 = i\n",
      "16 = c\n",
      "15 =  \n",
      "14 = t\n",
      "13 = a\n",
      "12 = D\n",
      "11 =  \n",
      "10 = o\n",
      "9 = t\n",
      "8 =  \n",
      "7 = e\n",
      "6 = m\n",
      "5 = o\n",
      "4 = c\n",
      "3 = l\n",
      "2 = e\n",
      "1 = W\n",
      "0 =  \n"
     ]
    }
   ],
   "source": [
    "for i in range(len(qw)-1,-1,-1):\n",
    "    print(i,\"=\",qw[i])"
   ]
  },
  {
   "cell_type": "code",
   "execution_count": 7,
   "id": "24484d9e-1b1f-4921-8a18-2b4a1cce4c10",
   "metadata": {},
   "outputs": [
    {
     "name": "stdout",
     "output_type": "stream",
     "text": [
      "a\n",
      "h\n",
      "k\n",
      "a\n",
      "L\n"
     ]
    }
   ],
   "source": [
    "str= \"Lakha\"\n",
    "l = len(str)-1\n",
    "while l>-1:\n",
    "    print(str[l])\n",
    "    l=l-1"
   ]
  },
  {
   "cell_type": "code",
   "execution_count": 8,
   "id": "aae9efd6-6bee-464f-b909-66786cacaa01",
   "metadata": {},
   "outputs": [],
   "source": [
    "vowels=\"AaEeIiOoUu\""
   ]
  },
  {
   "cell_type": "code",
   "execution_count": 10,
   "id": "85c5f68c-8aba-40c3-9773-fcf50b7c912f",
   "metadata": {},
   "outputs": [
    {
     "name": "stdout",
     "output_type": "stream",
     "text": [
      "L is not a Vowel\n",
      "a is a Vowel\n",
      "k is not a Vowel\n",
      "h is not a Vowel\n",
      "a is a Vowel\n"
     ]
    }
   ],
   "source": [
    "for l in str:\n",
    "    if l in vowels:\n",
    "        print(\"{} is a Vowel\".format(l))\n",
    "    else:\n",
    "            print(\"{} is not a Vowel\".format(l))"
   ]
  },
  {
   "cell_type": "markdown",
   "id": "d31409d5-63bb-4acf-8d3d-070945806ce7",
   "metadata": {},
   "source": [
    "# List"
   ]
  },
  {
   "cell_type": "code",
   "execution_count": 11,
   "id": "95dd278f-c23f-4e9e-a31b-58a034df56b9",
   "metadata": {},
   "outputs": [
    {
     "data": {
      "text/plain": [
       "list"
      ]
     },
     "execution_count": 11,
     "metadata": {},
     "output_type": "execute_result"
    }
   ],
   "source": [
    "type([])"
   ]
  },
  {
   "cell_type": "code",
   "execution_count": 12,
   "id": "b700b82b-480f-47b5-97d8-7afaa9fa0d30",
   "metadata": {},
   "outputs": [],
   "source": [
    "string=\"Manav rachna University\""
   ]
  },
  {
   "cell_type": "code",
   "execution_count": 13,
   "id": "ae19c3b3-3ec6-4162-8916-940311383780",
   "metadata": {},
   "outputs": [
    {
     "data": {
      "text/plain": [
       "list['Manav rachna University']"
      ]
     },
     "execution_count": 13,
     "metadata": {},
     "output_type": "execute_result"
    }
   ],
   "source": [
    "list[string]"
   ]
  },
  {
   "cell_type": "code",
   "execution_count": 14,
   "id": "5ea26f36-9b45-42f6-9f75-8a56fdd440ca",
   "metadata": {},
   "outputs": [
    {
     "data": {
      "text/plain": [
       "['M',\n",
       " 'a',\n",
       " 'n',\n",
       " 'a',\n",
       " 'v',\n",
       " ' ',\n",
       " 'r',\n",
       " 'a',\n",
       " 'c',\n",
       " 'h',\n",
       " 'n',\n",
       " 'a',\n",
       " ' ',\n",
       " 'U',\n",
       " 'n',\n",
       " 'i',\n",
       " 'v',\n",
       " 'e',\n",
       " 'r',\n",
       " 's',\n",
       " 'i',\n",
       " 't',\n",
       " 'y']"
      ]
     },
     "execution_count": 14,
     "metadata": {},
     "output_type": "execute_result"
    }
   ],
   "source": [
    "list(string)"
   ]
  },
  {
   "cell_type": "code",
   "execution_count": 15,
   "id": "9454f9aa-5c3f-47d3-a479-76e32c404269",
   "metadata": {},
   "outputs": [
    {
     "data": {
      "text/plain": [
       "['Manav', 'rachna', 'University']"
      ]
     },
     "execution_count": 15,
     "metadata": {},
     "output_type": "execute_result"
    }
   ],
   "source": [
    "list(string.split(\" \"))"
   ]
  },
  {
   "cell_type": "code",
   "execution_count": 16,
   "id": "b88557f6-acb6-4613-aebf-439122b916ea",
   "metadata": {},
   "outputs": [
    {
     "data": {
      "text/plain": [
       "['Manav', 'rachna', 'University']"
      ]
     },
     "execution_count": 16,
     "metadata": {},
     "output_type": "execute_result"
    }
   ],
   "source": [
    "string.split(\" \")"
   ]
  },
  {
   "cell_type": "raw",
   "id": "d0969e1d-5ad8-4090-9974-d0a83a01371b",
   "metadata": {},
   "source": [
    "Hence, the return type of split function for a string gives you a List"
   ]
  },
  {
   "cell_type": "code",
   "execution_count": 24,
   "id": "80989cb0-8f5f-40b6-9f52-1d04f3d6c615",
   "metadata": {},
   "outputs": [],
   "source": [
    "lst=string.split(\" \")"
   ]
  },
  {
   "cell_type": "code",
   "execution_count": 25,
   "id": "b215c10a-fd69-4d55-9035-d5e10ac5c68b",
   "metadata": {},
   "outputs": [
    {
     "data": {
      "text/plain": [
       "'rachna'"
      ]
     },
     "execution_count": 25,
     "metadata": {},
     "output_type": "execute_result"
    }
   ],
   "source": [
    "lst[1]"
   ]
  },
  {
   "cell_type": "code",
   "execution_count": 26,
   "id": "440a6fd0-fa1a-4ba4-b72c-62fa290be518",
   "metadata": {},
   "outputs": [
    {
     "data": {
      "text/plain": [
       "['rachna', 'University']"
      ]
     },
     "execution_count": 26,
     "metadata": {},
     "output_type": "execute_result"
    }
   ],
   "source": [
    "lst[1:]"
   ]
  },
  {
   "cell_type": "code",
   "execution_count": 27,
   "id": "64572530-3702-45db-99d8-9db2cf765807",
   "metadata": {},
   "outputs": [
    {
     "data": {
      "text/plain": [
       "['University']"
      ]
     },
     "execution_count": 27,
     "metadata": {},
     "output_type": "execute_result"
    }
   ],
   "source": [
    "lst[-1:]"
   ]
  },
  {
   "cell_type": "code",
   "execution_count": 28,
   "id": "d657fdfa-54df-4ef2-80e1-27a6ab38e5e4",
   "metadata": {},
   "outputs": [
    {
     "data": {
      "text/plain": [
       "['University', 'rachna', 'Manav']"
      ]
     },
     "execution_count": 28,
     "metadata": {},
     "output_type": "execute_result"
    }
   ],
   "source": [
    "lst[::-1]"
   ]
  },
  {
   "cell_type": "code",
   "execution_count": 31,
   "id": "77f4e1fc-dbec-4c95-aa3d-794412536fc0",
   "metadata": {},
   "outputs": [
    {
     "data": {
      "text/plain": [
       "['Manav', 'rachna', 'University', 'Campus']"
      ]
     },
     "execution_count": 31,
     "metadata": {},
     "output_type": "execute_result"
    }
   ],
   "source": [
    "# Concatenation Operation\n",
    "\n",
    "lst + ['Campus']"
   ]
  },
  {
   "cell_type": "code",
   "execution_count": 2,
   "id": "7173654f-62db-441e-aeb7-3e93ee0992da",
   "metadata": {},
   "outputs": [],
   "source": [
    "string = \"Arnav Lakha is a Good Influencer\""
   ]
  },
  {
   "cell_type": "code",
   "execution_count": 3,
   "id": "c4613d4b-bf44-4187-b260-4c6e70a937b4",
   "metadata": {},
   "outputs": [
    {
     "data": {
      "text/plain": [
       "['A',\n",
       " 'r',\n",
       " 'n',\n",
       " 'a',\n",
       " 'v',\n",
       " ' ',\n",
       " 'L',\n",
       " 'a',\n",
       " 'k',\n",
       " 'h',\n",
       " 'a',\n",
       " ' ',\n",
       " 'i',\n",
       " 's',\n",
       " ' ',\n",
       " 'a',\n",
       " ' ',\n",
       " 'G',\n",
       " 'o',\n",
       " 'o',\n",
       " 'd',\n",
       " ' ',\n",
       " 'I',\n",
       " 'n',\n",
       " 'f',\n",
       " 'l',\n",
       " 'u',\n",
       " 'e',\n",
       " 'n',\n",
       " 'c',\n",
       " 'e',\n",
       " 'r']"
      ]
     },
     "execution_count": 3,
     "metadata": {},
     "output_type": "execute_result"
    }
   ],
   "source": [
    "list(string)"
   ]
  },
  {
   "cell_type": "code",
   "execution_count": 4,
   "id": "9f992590-cf88-4891-84a6-915166b15a84",
   "metadata": {},
   "outputs": [
    {
     "data": {
      "text/plain": [
       "['Arnav', 'Lakha', 'is', 'a', 'Good', 'Influencer']"
      ]
     },
     "execution_count": 4,
     "metadata": {},
     "output_type": "execute_result"
    }
   ],
   "source": [
    "list(string.split())"
   ]
  },
  {
   "cell_type": "code",
   "execution_count": 6,
   "id": "c9b93432-fa23-4916-9902-2774853b3572",
   "metadata": {},
   "outputs": [
    {
     "data": {
      "text/plain": [
       "'e'"
      ]
     },
     "execution_count": 6,
     "metadata": {},
     "output_type": "execute_result"
    }
   ],
   "source": [
    "string[-2]"
   ]
  },
  {
   "cell_type": "code",
   "execution_count": 7,
   "id": "29f9d142-53f5-4f49-8a90-e54db9e8a455",
   "metadata": {},
   "outputs": [],
   "source": [
    "lst=list(string.split())"
   ]
  },
  {
   "cell_type": "code",
   "execution_count": 8,
   "id": "7a272ec1-03b9-42fe-b3a8-d6b4eea4c53c",
   "metadata": {},
   "outputs": [
    {
     "data": {
      "text/plain": [
       "['Arnav', 'Lakha', 'is', 'a', 'Good', 'Influencer']"
      ]
     },
     "execution_count": 8,
     "metadata": {},
     "output_type": "execute_result"
    }
   ],
   "source": [
    "lst"
   ]
  },
  {
   "cell_type": "code",
   "execution_count": 9,
   "id": "15b4ba5b-de8e-4677-9aea-5bd2da06bd62",
   "metadata": {},
   "outputs": [
    {
     "data": {
      "text/plain": [
       "'Good'"
      ]
     },
     "execution_count": 9,
     "metadata": {},
     "output_type": "execute_result"
    }
   ],
   "source": [
    "lst[-2]"
   ]
  },
  {
   "cell_type": "code",
   "execution_count": 10,
   "id": "4a66e8b8-454a-4447-8184-05d1ec5e9ccb",
   "metadata": {},
   "outputs": [
    {
     "data": {
      "text/plain": [
       "True"
      ]
     },
     "execution_count": 10,
     "metadata": {},
     "output_type": "execute_result"
    }
   ],
   "source": [
    "bool(lst[4]==lst[-2])"
   ]
  },
  {
   "cell_type": "code",
   "execution_count": 12,
   "id": "2396b4fb-563f-460e-ae31-d74f2ccac092",
   "metadata": {},
   "outputs": [
    {
     "data": {
      "text/plain": [
       "['Arnav', 'Lakha', 'is', 'a', 'Good', 'Influencer', 'xyx']"
      ]
     },
     "execution_count": 12,
     "metadata": {},
     "output_type": "execute_result"
    }
   ],
   "source": [
    "# Concatenation Operation\n",
    "\n",
    "lst + [\"xyx\"]"
   ]
  },
  {
   "cell_type": "code",
   "execution_count": 20,
   "id": "b0f75cfb-df1e-42fb-b2fb-14aed5c7bd7c",
   "metadata": {},
   "outputs": [],
   "source": [
    "zxc=lst +[['xyz',4]]"
   ]
  },
  {
   "cell_type": "code",
   "execution_count": 21,
   "id": "a7812aeb-f8cd-4cf2-a2c0-8e78d5351610",
   "metadata": {},
   "outputs": [
    {
     "data": {
      "text/plain": [
       "['Arnav', 'Lakha', 'is', 'a', 'Good', 'Influencer', ['xyz', 4]]"
      ]
     },
     "execution_count": 21,
     "metadata": {},
     "output_type": "execute_result"
    }
   ],
   "source": [
    "zxc"
   ]
  },
  {
   "cell_type": "code",
   "execution_count": 22,
   "id": "8a429b70-c855-4490-afb4-40928e91687a",
   "metadata": {},
   "outputs": [
    {
     "data": {
      "text/plain": [
       "['xyz', 4]"
      ]
     },
     "execution_count": 22,
     "metadata": {},
     "output_type": "execute_result"
    }
   ],
   "source": [
    "zxc[-1]"
   ]
  },
  {
   "cell_type": "code",
   "execution_count": 23,
   "id": "f12f9d52-e5a0-4d2a-8693-e49e42d8a409",
   "metadata": {},
   "outputs": [
    {
     "data": {
      "text/plain": [
       "'xyz'"
      ]
     },
     "execution_count": 23,
     "metadata": {},
     "output_type": "execute_result"
    }
   ],
   "source": [
    "zxc[-1][0]"
   ]
  },
  {
   "cell_type": "code",
   "execution_count": 24,
   "id": "935f1340-c530-4a78-9684-536cfb48e37f",
   "metadata": {},
   "outputs": [
    {
     "data": {
      "text/plain": [
       "str"
      ]
     },
     "execution_count": 24,
     "metadata": {},
     "output_type": "execute_result"
    }
   ],
   "source": [
    "type(zxc[-1][0])"
   ]
  },
  {
   "cell_type": "code",
   "execution_count": 25,
   "id": "dba37d3a-c50a-4eea-9dec-c414e4e83426",
   "metadata": {},
   "outputs": [
    {
     "name": "stdout",
     "output_type": "stream",
     "text": [
      "Arnav\n",
      "Lakha\n",
      "is\n",
      "a\n",
      "Good\n",
      "Influencer\n",
      "['xyz', 4]\n"
     ]
    }
   ],
   "source": [
    "for element in zxc:\n",
    "    print(element)"
   ]
  },
  {
   "cell_type": "code",
   "execution_count": 27,
   "id": "cf8d4eb8-69fe-422f-88d7-ab5a1dc0dcbd",
   "metadata": {},
   "outputs": [],
   "source": [
    "hut=[\"zebra\",\"monkey\"]"
   ]
  },
  {
   "cell_type": "code",
   "execution_count": 28,
   "id": "ba004b4e-c4ca-46fe-a11e-130b233d29e3",
   "metadata": {},
   "outputs": [
    {
     "data": {
      "text/plain": [
       "'zebra'"
      ]
     },
     "execution_count": 28,
     "metadata": {},
     "output_type": "execute_result"
    }
   ],
   "source": [
    "max(hut)"
   ]
  },
  {
   "cell_type": "raw",
   "id": "d998ea7c-236b-4c06-98d5-b790c2d61610",
   "metadata": {},
   "source": [
    "Zebra comes according to the ascii value."
   ]
  },
  {
   "cell_type": "code",
   "execution_count": 30,
   "id": "ea47e459-806a-4c9f-a0d7-f19219d594af",
   "metadata": {},
   "outputs": [],
   "source": [
    "# Append\n",
    "lst1=[1,2,3,4,5]"
   ]
  },
  {
   "cell_type": "code",
   "execution_count": 32,
   "id": "5a4f4c1d-382b-4ecf-86f4-c777d1e18ecb",
   "metadata": {},
   "outputs": [],
   "source": [
    "lst1.append(34)"
   ]
  },
  {
   "cell_type": "code",
   "execution_count": 33,
   "id": "06035bdd-801c-4e44-a69b-1c9d934cddc0",
   "metadata": {},
   "outputs": [
    {
     "data": {
      "text/plain": [
       "[1, 2, 3, 4, 5, 34]"
      ]
     },
     "execution_count": 33,
     "metadata": {},
     "output_type": "execute_result"
    }
   ],
   "source": [
    "lst1"
   ]
  },
  {
   "cell_type": "code",
   "execution_count": 9,
   "id": "4415c403-72ff-4e78-82ba-da3d4dfb896e",
   "metadata": {},
   "outputs": [
    {
     "data": {
      "text/plain": [
       "'-----------------------------------------------------------------------------------------------------------------------------------------------------'"
      ]
     },
     "execution_count": 9,
     "metadata": {},
     "output_type": "execute_result"
    }
   ],
   "source": [
    "\"-\"*149"
   ]
  },
  {
   "cell_type": "code",
   "execution_count": 47,
   "id": "edb5ba7f-267d-4f3a-bc87-1b5f72a0aab4",
   "metadata": {},
   "outputs": [
    {
     "data": {
      "text/plain": [
       "False"
      ]
     },
     "execution_count": 47,
     "metadata": {},
     "output_type": "execute_result"
    }
   ],
   "source": [
    "1.9999999999999 ==2"
   ]
  },
  {
   "cell_type": "code",
   "execution_count": 2,
   "id": "1c338c69-c2f6-407e-973b-44eabc752512",
   "metadata": {},
   "outputs": [
    {
     "data": {
      "text/plain": [
       "True"
      ]
     },
     "execution_count": 2,
     "metadata": {},
     "output_type": "execute_result"
    }
   ],
   "source": [
    "1.999999999999999999==2"
   ]
  },
  {
   "cell_type": "code",
   "execution_count": 14,
   "id": "2e0aa1c3-6056-42d8-b2c2-f9d0365b4466",
   "metadata": {},
   "outputs": [
    {
     "name": "stdout",
     "output_type": "stream",
     "text": [
      "*\n",
      "**\n",
      "***\n",
      "****\n"
     ]
    }
   ],
   "source": [
    "## Just for Practice\n",
    "n=4\n",
    "\n",
    "for i in range(0,n):\n",
    "    for j in range(0,i+1):\n",
    "        print(\"*\",end=\"\")\n",
    "    print(\"\\r\")\n",
    "        \n",
    "        "
   ]
  },
  {
   "cell_type": "code",
   "execution_count": 25,
   "id": "a67d36dd-75e0-4568-ae3c-05a26ce77fba",
   "metadata": {},
   "outputs": [],
   "source": [
    "lst=[\"zebra\",\"lion\",\"donkey\"]"
   ]
  },
  {
   "cell_type": "code",
   "execution_count": 26,
   "id": "a1270dbe-59f7-4fde-8179-0e701269632e",
   "metadata": {},
   "outputs": [
    {
     "data": {
      "text/plain": [
       "'donkey'"
      ]
     },
     "execution_count": 26,
     "metadata": {},
     "output_type": "execute_result"
    }
   ],
   "source": [
    "lst.pop()"
   ]
  },
  {
   "cell_type": "code",
   "execution_count": 27,
   "id": "89e88f0e-f2bf-4b08-ada9-80dfb9c5d6ea",
   "metadata": {},
   "outputs": [
    {
     "data": {
      "text/plain": [
       "['zebra', 'lion']"
      ]
     },
     "execution_count": 27,
     "metadata": {},
     "output_type": "execute_result"
    }
   ],
   "source": [
    "lst"
   ]
  },
  {
   "cell_type": "raw",
   "id": "36844b80-f6c4-4b7a-80b6-a0575f1fdbc2",
   "metadata": {},
   "source": [
    "Therefore, '.pop' brings a permanent change "
   ]
  },
  {
   "cell_type": "code",
   "execution_count": 28,
   "id": "de4533b6-3afd-497a-9afb-cd6ef6c89138",
   "metadata": {},
   "outputs": [],
   "source": [
    "lst.append(\"donkey\")"
   ]
  },
  {
   "cell_type": "code",
   "execution_count": 29,
   "id": "b16c7102-23c9-4c4b-b00f-48339c7c7efb",
   "metadata": {},
   "outputs": [
    {
     "data": {
      "text/plain": [
       "['zebra', 'lion', 'donkey']"
      ]
     },
     "execution_count": 29,
     "metadata": {},
     "output_type": "execute_result"
    }
   ],
   "source": [
    "lst"
   ]
  },
  {
   "cell_type": "code",
   "execution_count": 30,
   "id": "3e393d84-55e4-451d-a2ae-5c827538f7e7",
   "metadata": {},
   "outputs": [
    {
     "name": "stdout",
     "output_type": "stream",
     "text": [
      "donkey\n"
     ]
    }
   ],
   "source": [
    "x= lst.pop()\n",
    "print(x)"
   ]
  },
  {
   "cell_type": "code",
   "execution_count": 31,
   "id": "8d8fb06e-b895-4501-a71f-652ccd97db81",
   "metadata": {},
   "outputs": [
    {
     "data": {
      "text/plain": [
       "'donkey'"
      ]
     },
     "execution_count": 31,
     "metadata": {},
     "output_type": "execute_result"
    }
   ],
   "source": [
    "# we can access the popped(removed) element by storing it in a variable\n",
    "x"
   ]
  },
  {
   "cell_type": "markdown",
   "id": "233a0cba-03a5-45d7-9bcb-f727f5fe37ff",
   "metadata": {},
   "source": [
    "# Sorting and Reverse methods in List"
   ]
  },
  {
   "cell_type": "code",
   "execution_count": 45,
   "id": "a4a53acf-f0d8-4f69-af7f-821c9bc08a70",
   "metadata": {},
   "outputs": [],
   "source": [
    "lst=[\"a\",\"b\",\"c\",\"d\"]"
   ]
  },
  {
   "cell_type": "code",
   "execution_count": 46,
   "id": "c3a4b166-ea61-46da-895f-1309b087b52c",
   "metadata": {},
   "outputs": [
    {
     "data": {
      "text/plain": [
       "['a', 'b', 'c', 'd']"
      ]
     },
     "execution_count": 46,
     "metadata": {},
     "output_type": "execute_result"
    }
   ],
   "source": [
    "lst"
   ]
  },
  {
   "cell_type": "code",
   "execution_count": 47,
   "id": "67b8827e-3fd4-4186-9caf-aa72c060cb81",
   "metadata": {},
   "outputs": [
    {
     "data": {
      "text/plain": [
       "['d', 'c', 'b', 'a']"
      ]
     },
     "execution_count": 47,
     "metadata": {},
     "output_type": "execute_result"
    }
   ],
   "source": [
    "#Through Slicing\n",
    "lst[::-1]"
   ]
  },
  {
   "cell_type": "code",
   "execution_count": 50,
   "id": "2d3c540e-8195-41e8-ab37-c21d1eb6c35f",
   "metadata": {},
   "outputs": [],
   "source": [
    "# Through .reverse\n",
    "lst.reverse()"
   ]
  },
  {
   "cell_type": "code",
   "execution_count": 51,
   "id": "6366644c-ab18-4293-9d2d-70f19ada9af6",
   "metadata": {},
   "outputs": [
    {
     "data": {
      "text/plain": [
       "['d', 'c', 'b', 'a']"
      ]
     },
     "execution_count": 51,
     "metadata": {},
     "output_type": "execute_result"
    }
   ],
   "source": [
    "lst"
   ]
  },
  {
   "cell_type": "code",
   "execution_count": 52,
   "id": "91094f34-3f64-49b6-b72b-1bce125eadf5",
   "metadata": {},
   "outputs": [],
   "source": [
    "x=[1,2,3]"
   ]
  },
  {
   "cell_type": "code",
   "execution_count": 53,
   "id": "5dada8ab-b15b-4536-9930-32251b725c61",
   "metadata": {},
   "outputs": [
    {
     "data": {
      "text/plain": [
       "[3, 2, 1]"
      ]
     },
     "execution_count": 53,
     "metadata": {},
     "output_type": "execute_result"
    }
   ],
   "source": [
    "x.reverse()\n",
    "x"
   ]
  },
  {
   "cell_type": "code",
   "execution_count": 54,
   "id": "70aa2edd-fe0f-46bf-87f4-7754c1db67b1",
   "metadata": {},
   "outputs": [],
   "source": [
    "# Sorting\n",
    "lst.sort()\n",
    "x.sort()"
   ]
  },
  {
   "cell_type": "code",
   "execution_count": 57,
   "id": "3cf5910c-025a-4aa7-8827-f11d511339da",
   "metadata": {},
   "outputs": [
    {
     "data": {
      "text/plain": [
       "['a', 'b', 'c', 'd']"
      ]
     },
     "execution_count": 57,
     "metadata": {},
     "output_type": "execute_result"
    }
   ],
   "source": [
    "# .sort is used to arrange in ascending order\n",
    "lst"
   ]
  },
  {
   "cell_type": "code",
   "execution_count": 58,
   "id": "ce1f95f7-ba36-4909-948b-01ee978cbbf0",
   "metadata": {},
   "outputs": [
    {
     "data": {
      "text/plain": [
       "[1, 2, 3]"
      ]
     },
     "execution_count": 58,
     "metadata": {},
     "output_type": "execute_result"
    }
   ],
   "source": [
    "x"
   ]
  },
  {
   "cell_type": "markdown",
   "id": "c584d8ad-c7e7-4ac4-be2b-e7873536f804",
   "metadata": {},
   "source": [
    "# Nested Lists"
   ]
  },
  {
   "cell_type": "code",
   "execution_count": 72,
   "id": "e13b7094-6e92-4ffe-9058-76325e8ff620",
   "metadata": {},
   "outputs": [],
   "source": [
    "''' Let's Try adding multiple elements in a list \n",
    "Method#1 .append'''\n",
    "c=[1,2,3,4]"
   ]
  },
  {
   "cell_type": "code",
   "execution_count": 73,
   "id": "91fc6cec-fbe7-4686-9678-eee474bf0373",
   "metadata": {},
   "outputs": [],
   "source": [
    "c.append([5,6])\n",
    "\n"
   ]
  },
  {
   "cell_type": "code",
   "execution_count": 74,
   "id": "af2f7ecc-7d11-4aa4-beb9-304870ce3fb9",
   "metadata": {},
   "outputs": [
    {
     "data": {
      "text/plain": [
       "[1, 2, 3, 4, [5, 6]]"
      ]
     },
     "execution_count": 74,
     "metadata": {},
     "output_type": "execute_result"
    }
   ],
   "source": [
    "c"
   ]
  },
  {
   "cell_type": "code",
   "execution_count": 75,
   "id": "456c7be5-1b5f-47d4-aa32-ea469b59b4a2",
   "metadata": {},
   "outputs": [
    {
     "data": {
      "text/plain": [
       "[1, 2, 3, 4, [5, 6], 7, 8]"
      ]
     },
     "execution_count": 75,
     "metadata": {},
     "output_type": "execute_result"
    }
   ],
   "source": [
    "# With .append, new multiple elements can be added but it will form another list \n",
    "## Let's Try another method(.extend)\n",
    "c.extend([7,8])\n",
    "c"
   ]
  },
  {
   "cell_type": "raw",
   "id": "dac1cc2f-3f12-41e3-ac16-d77ec4bfc137",
   "metadata": {},
   "source": [
    "Hence, we can add multiple elements in a list without the need of nesting another list inside"
   ]
  },
  {
   "cell_type": "code",
   "execution_count": 76,
   "id": "80fdc76c-4587-43f4-989b-c28b2e16f380",
   "metadata": {},
   "outputs": [],
   "source": [
    "l1=[1,2,3]\n",
    "l2=[4,5,6]\n",
    "l3=[7,8,9]\n",
    "\n",
    "matrix = [l1,l2,l3]"
   ]
  },
  {
   "cell_type": "code",
   "execution_count": 77,
   "id": "a5fd1f92-6857-4267-9bd1-24e64f4f3377",
   "metadata": {},
   "outputs": [
    {
     "data": {
      "text/plain": [
       "[[1, 2, 3], [4, 5, 6], [7, 8, 9]]"
      ]
     },
     "execution_count": 77,
     "metadata": {},
     "output_type": "execute_result"
    }
   ],
   "source": [
    "matrix\n"
   ]
  },
  {
   "cell_type": "code",
   "execution_count": 80,
   "id": "012f6e15-b6fa-469b-b700-409f509f935c",
   "metadata": {},
   "outputs": [
    {
     "data": {
      "text/plain": [
       "6"
      ]
     },
     "execution_count": 80,
     "metadata": {},
     "output_type": "execute_result"
    }
   ],
   "source": [
    "# Question: Pick up '6' \n",
    "# Solution: \n",
    "matrix[1][2]\n",
    "# In matrix , index 1, and then index 2 of the index1 of matrix"
   ]
  },
  {
   "cell_type": "code",
   "execution_count": 84,
   "id": "351d6a32-b96d-489d-8189-22223fc417f9",
   "metadata": {},
   "outputs": [
    {
     "data": {
      "text/plain": [
       "[8, 9]"
      ]
     },
     "execution_count": 84,
     "metadata": {},
     "output_type": "execute_result"
    }
   ],
   "source": [
    "#Question : Get 8,9\n",
    "# Solution:\n",
    "matrix[2][1:]"
   ]
  },
  {
   "cell_type": "code",
   "execution_count": 90,
   "id": "1e4bc65c-6e39-4047-a351-f526345044c5",
   "metadata": {},
   "outputs": [
    {
     "name": "stdout",
     "output_type": "stream",
     "text": [
      "1\n",
      "4\n",
      "7\n"
     ]
    }
   ],
   "source": [
    "# Questoion: Get 1,4,7\n",
    "# Solution:\n",
    "for i in range(0,3):\n",
    "    print(matrix[i][0])"
   ]
  },
  {
   "cell_type": "code",
   "execution_count": 105,
   "id": "3b0ca903-334d-4d64-bef8-fd2d898e1881",
   "metadata": {},
   "outputs": [
    {
     "name": "stdout",
     "output_type": "stream",
     "text": [
      "1\n",
      "1\n",
      "1\n",
      "5\n",
      "5\n",
      "5\n",
      "9\n",
      "9\n",
      "9\n"
     ]
    }
   ],
   "source": [
    "#Question: Get 1,5,9\n",
    "# Solution: \n",
    "n=3\n",
    "for i in range(0,n):\n",
    "    for j in range(0,n):\n",
    "        j=i\n",
    "        print(matrix[i][j])\n",
    "        \n",
    "# This Question can be done very simply using Arrays"
   ]
  },
  {
   "cell_type": "code",
   "execution_count": 108,
   "id": "85657177-7758-412b-ac1e-4b60b7e86cd3",
   "metadata": {},
   "outputs": [
    {
     "data": {
      "text/plain": [
       "[0, 1, 2, 3, 4, 5, 6, 7, 8, 9, 10, 11, 12, 13, 14, 15, 16, 17, 18, 19]"
      ]
     },
     "execution_count": 108,
     "metadata": {},
     "output_type": "execute_result"
    }
   ],
   "source": [
    "# List Comprehension\n",
    "[i for i in range(20)]"
   ]
  },
  {
   "cell_type": "code",
   "execution_count": 113,
   "id": "8b75866a-064f-47c2-bfb6-1dee478b9bbf",
   "metadata": {},
   "outputs": [
    {
     "data": {
      "text/plain": [
       "[0,\n",
       " 'Odd',\n",
       " 2,\n",
       " 'Odd',\n",
       " 4,\n",
       " 'Odd',\n",
       " 6,\n",
       " 'Odd',\n",
       " 8,\n",
       " 'Odd',\n",
       " 10,\n",
       " 'Odd',\n",
       " 12,\n",
       " 'Odd',\n",
       " 14,\n",
       " 'Odd',\n",
       " 16,\n",
       " 'Odd',\n",
       " 18,\n",
       " 'Odd']"
      ]
     },
     "execution_count": 113,
     "metadata": {},
     "output_type": "execute_result"
    }
   ],
   "source": [
    "# List Comprehension\n",
    "# Even Numbers only\n",
    "[i if i%2 ==0 else \"Odd\" for i in range(20)]"
   ]
  },
  {
   "cell_type": "code",
   "execution_count": 148,
   "id": "b906975f-35a4-4bbc-b4fb-3530ce092fc3",
   "metadata": {},
   "outputs": [
    {
     "data": {
      "text/plain": [
       "[0, '', 2, '', 4, '', 6, '', 8, '', 10, '', 12, '', 14, '', 16, '', 18, '']"
      ]
     },
     "execution_count": 148,
     "metadata": {},
     "output_type": "execute_result"
    }
   ],
   "source": [
    "[x if x%2==0 else '' for x in range(20)]"
   ]
  },
  {
   "cell_type": "code",
   "execution_count": 149,
   "id": "f3a79373-3a7e-495e-9f70-08373cefc7c3",
   "metadata": {},
   "outputs": [
    {
     "name": "stdout",
     "output_type": "stream",
     "text": [
      "20\n",
      "16\n"
     ]
    }
   ],
   "source": [
    "# Question: Iterate through the list and find the sum of even number and odd num in 2 variables\n",
    "lst=[1,2,3,4,5,6,7,8]\n",
    "even=0\n",
    "odd=0\n",
    "for x in lst:\n",
    "    if x%2 ==0:\n",
    "        even+=x\n",
    "    else:\n",
    "        odd+=x\n",
    "print(even)\n",
    "print(odd)"
   ]
  },
  {
   "cell_type": "code",
   "execution_count": 152,
   "id": "ecc00b5b-ee4f-4f28-a25c-1a7406b666ad",
   "metadata": {},
   "outputs": [
    {
     "data": {
      "text/plain": [
       "16"
      ]
     },
     "execution_count": 152,
     "metadata": {},
     "output_type": "execute_result"
    }
   ],
   "source": [
    "#Same Question using List Comprehension\n",
    "sum([x for x in lst if x%2==0])\n",
    "sum([x for x in lst if x%2!=0])"
   ]
  },
  {
   "cell_type": "code",
   "execution_count": 160,
   "id": "4429f6f2-7bf6-4381-b634-475e24adc753",
   "metadata": {},
   "outputs": [
    {
     "data": {
      "text/plain": [
       "[1, 4, 9, 16, 25, 36, 49, 64, 81, 100]"
      ]
     },
     "execution_count": 160,
     "metadata": {},
     "output_type": "execute_result"
    }
   ],
   "source": [
    "# Find the Square of all the numbers in a list using list comprehension\n",
    "lst=[1,2,3,4,5,6,7,8,9,10]\n",
    "#Solution:\n",
    "[x**2 for x in lst]"
   ]
  },
  {
   "cell_type": "code",
   "execution_count": 161,
   "id": "81093ee7-451b-4c1a-9303-1220cf7cb40d",
   "metadata": {},
   "outputs": [
    {
     "data": {
      "text/plain": [
       "[1, 2, 3, 4]"
      ]
     },
     "execution_count": 161,
     "metadata": {},
     "output_type": "execute_result"
    }
   ],
   "source": [
    "#Question: Create a  list of only positive numbers from a list using list comprehension\n",
    "lst=[-2,-1,0,1,2,3,4]\n",
    "[x for x in lst if x>0]"
   ]
  },
  {
   "cell_type": "code",
   "execution_count": 165,
   "id": "ffa7b420-cba1-413e-b9e4-3de4fe201eeb",
   "metadata": {},
   "outputs": [
    {
     "data": {
      "text/plain": [
       "['C', 'b', 'm', 'a']"
      ]
     },
     "execution_count": 165,
     "metadata": {},
     "output_type": "execute_result"
    }
   ],
   "source": [
    "# Question: Create a list of only the first letters of words in a list using List Comprehension\n",
    "a=[\"Cherry\",\"banana\",\"mango\",\"apple\"]\n",
    "[x[0] for x in a]"
   ]
  },
  {
   "cell_type": "code",
   "execution_count": 167,
   "id": "ac85f000-cdf4-4535-91f0-dc03a77d39c5",
   "metadata": {},
   "outputs": [
    {
     "data": {
      "text/plain": [
       "[32.0, 50.0, 68.0, 86.0, 104.0, 122.0]"
      ]
     },
     "execution_count": 167,
     "metadata": {},
     "output_type": "execute_result"
    }
   ],
   "source": [
    "#Question: Convert a list of temp from celsius to farhenheit using list comprehension\n",
    "ce=[0,10,20,30,40,50]\n",
    "[9*ce/5 +32 for ce in ce]"
   ]
  },
  {
   "cell_type": "code",
   "execution_count": 170,
   "id": "0a17406f-c034-4b5b-89cc-5bedd79e5faf",
   "metadata": {},
   "outputs": [
    {
     "data": {
      "text/plain": [
       "[1, 2, 3, 4, 5, 6, 7, 8, 9]"
      ]
     },
     "execution_count": 170,
     "metadata": {},
     "output_type": "execute_result"
    }
   ],
   "source": [
    "# Question: Flatten a list of lists into a single lists\n",
    "l= [[1,2,3],[4,5,6],[7,8,9]]\n",
    "[num for sublist in l for num in sublist]"
   ]
  },
  {
   "cell_type": "code",
   "execution_count": 23,
   "id": "c32a07b1-ada7-4775-9dc4-71580c5c1853",
   "metadata": {},
   "outputs": [],
   "source": [
    "lst=[1,2,3,4,5]"
   ]
  },
  {
   "cell_type": "code",
   "execution_count": 25,
   "id": "ba82b48f-291c-45c2-b588-42768cf70e39",
   "metadata": {},
   "outputs": [],
   "source": [
    "#insert function only insert after replacing another element\n",
    "lst.insert(6,5)"
   ]
  },
  {
   "cell_type": "code",
   "execution_count": 26,
   "id": "0606e3bb-3eb9-4a01-a413-dbdb9afc1493",
   "metadata": {},
   "outputs": [
    {
     "data": {
      "text/plain": [
       "[1, 2, 3, 4, 5, 5]"
      ]
     },
     "execution_count": 26,
     "metadata": {},
     "output_type": "execute_result"
    }
   ],
   "source": [
    "lst"
   ]
  },
  {
   "cell_type": "code",
   "execution_count": null,
   "id": "feed6d81-d100-49b5-9576-0aec324c0eb8",
   "metadata": {},
   "outputs": [],
   "source": []
  }
 ],
 "metadata": {
  "kernelspec": {
   "display_name": "Python 3 (ipykernel)",
   "language": "python",
   "name": "python3"
  },
  "language_info": {
   "codemirror_mode": {
    "name": "ipython",
    "version": 3
   },
   "file_extension": ".py",
   "mimetype": "text/x-python",
   "name": "python",
   "nbconvert_exporter": "python",
   "pygments_lexer": "ipython3",
   "version": "3.10.8"
  }
 },
 "nbformat": 4,
 "nbformat_minor": 5
}
