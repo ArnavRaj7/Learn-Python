{
 "cells": [
  {
   "cell_type": "markdown",
   "id": "ae5ff8bb-7a31-4800-8509-899af4a06072",
   "metadata": {},
   "source": [
    "# Tuples\n",
    "\n",
    " Whenever we have to create a Tuple, use Paranthesis()."
   ]
  },
  {
   "cell_type": "code",
   "execution_count": 1,
   "id": "32c94ae2-409b-490e-a4a1-244a5a8c3557",
   "metadata": {},
   "outputs": [],
   "source": [
    "t=()"
   ]
  },
  {
   "cell_type": "code",
   "execution_count": 2,
   "id": "e3cdce8c-6dfe-4a38-8e41-8f7d2db2a3b5",
   "metadata": {},
   "outputs": [
    {
     "data": {
      "text/plain": [
       "tuple"
      ]
     },
     "execution_count": 2,
     "metadata": {},
     "output_type": "execute_result"
    }
   ],
   "source": [
    "type(t)"
   ]
  },
  {
   "cell_type": "code",
   "execution_count": 3,
   "id": "21b8cc4e-4e1d-4521-8049-a5555aa60d1a",
   "metadata": {},
   "outputs": [],
   "source": [
    "x=('arnav',2,4,5, True)"
   ]
  },
  {
   "cell_type": "code",
   "execution_count": 4,
   "id": "b1aa6d91-15b9-4064-956e-484cca274669",
   "metadata": {},
   "outputs": [
    {
     "data": {
      "text/plain": [
       "'arnav'"
      ]
     },
     "execution_count": 4,
     "metadata": {},
     "output_type": "execute_result"
    }
   ],
   "source": [
    "x[0]"
   ]
  },
  {
   "cell_type": "code",
   "execution_count": 5,
   "id": "dd439e47-dee5-4c4f-af1d-a97415dafb09",
   "metadata": {},
   "outputs": [
    {
     "data": {
      "text/plain": [
       "(True, 5, 4, 2, 'arnav')"
      ]
     },
     "execution_count": 5,
     "metadata": {},
     "output_type": "execute_result"
    }
   ],
   "source": [
    "x[::-1]"
   ]
  },
  {
   "cell_type": "code",
   "execution_count": 6,
   "id": "8bdc8587-fa00-41b9-b34f-8da75dface71",
   "metadata": {},
   "outputs": [
    {
     "data": {
      "text/plain": [
       "('arnav', 2, 4, 5, True)"
      ]
     },
     "execution_count": 6,
     "metadata": {},
     "output_type": "execute_result"
    }
   ],
   "source": [
    "#But Lists are not Mutable. let's check\n",
    "x"
   ]
  },
  {
   "cell_type": "raw",
   "id": "47ed7f28-585d-4d91-93f2-0998dc213089",
   "metadata": {},
   "source": [
    "As the reverse step hasn't caused any permanent change, we can establish that tuples are not mutable."
   ]
  },
  {
   "cell_type": "code",
   "execution_count": 8,
   "id": "43416ca3-383c-4911-8c61-0d7d1381953e",
   "metadata": {},
   "outputs": [
    {
     "data": {
      "text/plain": [
       "('arnav', 2, 4)"
      ]
     },
     "execution_count": 8,
     "metadata": {},
     "output_type": "execute_result"
    }
   ],
   "source": [
    "x[:3]"
   ]
  },
  {
   "cell_type": "code",
   "execution_count": 12,
   "id": "24201404-781c-4f41-8add-6ba12599af7f",
   "metadata": {},
   "outputs": [
    {
     "data": {
      "text/plain": [
       "1"
      ]
     },
     "execution_count": 12,
     "metadata": {},
     "output_type": "execute_result"
    }
   ],
   "source": [
    "x.count(2)"
   ]
  },
  {
   "cell_type": "code",
   "execution_count": 13,
   "id": "095d4255-888e-4b6c-9e6d-a414b4ded074",
   "metadata": {},
   "outputs": [],
   "source": [
    "z=(1,1,1,1,2,2,2,3)"
   ]
  },
  {
   "cell_type": "code",
   "execution_count": 14,
   "id": "cef4ce39-7653-439d-9dbf-cfe9c2e3a191",
   "metadata": {},
   "outputs": [
    {
     "data": {
      "text/plain": [
       "4"
      ]
     },
     "execution_count": 14,
     "metadata": {},
     "output_type": "execute_result"
    }
   ],
   "source": [
    "z.count(1)"
   ]
  },
  {
   "cell_type": "code",
   "execution_count": 34,
   "id": "e3f69eb6-6f2d-44e7-b4b5-bbbaebb9d620",
   "metadata": {},
   "outputs": [
    {
     "data": {
      "text/plain": [
       "7"
      ]
     },
     "execution_count": 34,
     "metadata": {},
     "output_type": "execute_result"
    }
   ],
   "source": [
    "z.index(3)"
   ]
  },
  {
   "cell_type": "code",
   "execution_count": 40,
   "id": "5eeda8b1-dc7d-41ed-af72-54706af387e9",
   "metadata": {},
   "outputs": [
    {
     "data": {
      "text/plain": [
       "2"
      ]
     },
     "execution_count": 40,
     "metadata": {},
     "output_type": "execute_result"
    }
   ],
   "source": [
    "# System stores Bool Value True as 1 and  false as Zero.\n",
    "\n",
    "a=(True,1,False,0)\n",
    "a.count(True)"
   ]
  },
  {
   "cell_type": "code",
   "execution_count": 41,
   "id": "4235fd94-aae2-4dde-bf8d-4eb8771bcec0",
   "metadata": {},
   "outputs": [
    {
     "data": {
      "text/plain": [
       "2"
      ]
     },
     "execution_count": 41,
     "metadata": {},
     "output_type": "execute_result"
    }
   ],
   "source": [
    "# System stores Bool Value True as 1 and  false as Zero.\n",
    "a.count(0)"
   ]
  },
  {
   "cell_type": "code",
   "execution_count": 42,
   "id": "d0d802b9-b4df-437d-b69b-09db92a4b632",
   "metadata": {},
   "outputs": [
    {
     "ename": "TypeError",
     "evalue": "'tuple' object does not support item assignment",
     "output_type": "error",
     "traceback": [
      "\u001b[0;31m---------------------------------------------------------------------------\u001b[0m",
      "\u001b[0;31mTypeError\u001b[0m                                 Traceback (most recent call last)",
      "Cell \u001b[0;32mIn[42], line 4\u001b[0m\n\u001b[1;32m      1\u001b[0m \u001b[38;5;66;03m# Let's check if lists and Tuples support element assignment\u001b[39;00m\n\u001b[1;32m      3\u001b[0m w\u001b[38;5;241m=\u001b[39m(\u001b[38;5;241m1\u001b[39m,\u001b[38;5;241m3\u001b[39m,\u001b[38;5;241m4\u001b[39m,\u001b[38;5;241m5\u001b[39m)\n\u001b[0;32m----> 4\u001b[0m \u001b[43mw\u001b[49m\u001b[43m[\u001b[49m\u001b[38;5;241;43m0\u001b[39;49m\u001b[43m]\u001b[49m\u001b[38;5;241m=\u001b[39m\u001b[38;5;241m1\u001b[39m\n",
      "\u001b[0;31mTypeError\u001b[0m: 'tuple' object does not support item assignment"
     ]
    }
   ],
   "source": [
    "# Let's check if Tuples support element assignment\n",
    "\n",
    "w=(1,3,4,5)\n",
    "w[0]=1"
   ]
  },
  {
   "cell_type": "code",
   "execution_count": 43,
   "id": "1239efb0-cb8e-49d8-8e3d-656aa9f4b363",
   "metadata": {},
   "outputs": [],
   "source": [
    "# Let's check if lists and Tuples support element assignment\n",
    "q=[1,2,3,7,9,0]\n",
    "q[0]=47"
   ]
  },
  {
   "cell_type": "code",
   "execution_count": 44,
   "id": "178b6330-3ba4-4f7d-93d6-f801f5fe8ac4",
   "metadata": {},
   "outputs": [
    {
     "data": {
      "text/plain": [
       "[47, 2, 3, 7, 9, 0]"
      ]
     },
     "execution_count": 44,
     "metadata": {},
     "output_type": "execute_result"
    }
   ],
   "source": [
    "q"
   ]
  },
  {
   "cell_type": "raw",
   "id": "df3e2202-cf26-4d39-a1e2-7c62b079362c",
   "metadata": {},
   "source": [
    "Therefore, Lists support element assignment but Tuples do not."
   ]
  },
  {
   "cell_type": "code",
   "execution_count": 45,
   "id": "34b41f0a-286a-4ed5-9005-7f56051f4c38",
   "metadata": {},
   "outputs": [],
   "source": [
    "tup=('arnav',12,34,4+5j,True)"
   ]
  },
  {
   "cell_type": "code",
   "execution_count": 47,
   "id": "13aaccc2-7952-46b1-86c3-367c48859b2d",
   "metadata": {},
   "outputs": [
    {
     "name": "stdout",
     "output_type": "stream",
     "text": [
      "arnav <class 'str'>\n",
      "12 <class 'int'>\n",
      "34 <class 'int'>\n",
      "(4+5j) <class 'complex'>\n",
      "True <class 'bool'>\n"
     ]
    }
   ],
   "source": [
    "#Question:  Iterate through Tuple 'tup' using For Loop\n",
    "\n",
    "for i in tup:\n",
    "    print(i,type(i))"
   ]
  },
  {
   "cell_type": "code",
   "execution_count": 50,
   "id": "b7d62e48-315f-462d-bdab-2c4d457c86c7",
   "metadata": {},
   "outputs": [],
   "source": [
    "t1=(1,2,3,4,5)\n",
    "t2=(6,7,8,9,10)"
   ]
  },
  {
   "cell_type": "code",
   "execution_count": 51,
   "id": "d48cdaf0-0b15-44da-8d99-6aca12b349e7",
   "metadata": {},
   "outputs": [],
   "source": [
    "#It will form a nested tuple.\n",
    "t3=(t1,t2)"
   ]
  },
  {
   "cell_type": "code",
   "execution_count": 52,
   "id": "0618bc61-86d9-480c-af27-6ac1aea82491",
   "metadata": {},
   "outputs": [
    {
     "data": {
      "text/plain": [
       "((1, 2, 3, 4, 5), (6, 7, 8, 9, 10))"
      ]
     },
     "execution_count": 52,
     "metadata": {},
     "output_type": "execute_result"
    }
   ],
   "source": [
    "t3"
   ]
  },
  {
   "cell_type": "code",
   "execution_count": 53,
   "id": "75e203b6-2e04-4707-b2ba-aa4b4752d344",
   "metadata": {},
   "outputs": [],
   "source": [
    "# Deleting a Tuple\n",
    "del t3"
   ]
  },
  {
   "cell_type": "code",
   "execution_count": 54,
   "id": "e0b666cb-ea91-4f4c-906e-69ed0404c198",
   "metadata": {},
   "outputs": [
    {
     "ename": "NameError",
     "evalue": "name 't3' is not defined",
     "output_type": "error",
     "traceback": [
      "\u001b[0;31m---------------------------------------------------------------------------\u001b[0m",
      "\u001b[0;31mNameError\u001b[0m                                 Traceback (most recent call last)",
      "Cell \u001b[0;32mIn[54], line 1\u001b[0m\n\u001b[0;32m----> 1\u001b[0m \u001b[43mt3\u001b[49m\n",
      "\u001b[0;31mNameError\u001b[0m: name 't3' is not defined"
     ]
    }
   ],
   "source": [
    "t3\n",
    "# Error will come indicating that 't3' is deleted."
   ]
  },
  {
   "cell_type": "code",
   "execution_count": 55,
   "id": "dc08fd2e-d79c-42af-982a-d6815c095b89",
   "metadata": {},
   "outputs": [
    {
     "data": {
      "text/plain": [
       "4"
      ]
     },
     "execution_count": 55,
     "metadata": {},
     "output_type": "execute_result"
    }
   ],
   "source": [
    "# Checking Length of a Tuple.\n",
    "e=(23,32,43,14)\n",
    "len(e)"
   ]
  },
  {
   "cell_type": "code",
   "execution_count": 56,
   "id": "47d029ee-c2f2-403b-b4f6-cf526b388249",
   "metadata": {},
   "outputs": [
    {
     "data": {
      "text/plain": [
       "True"
      ]
     },
     "execution_count": 56,
     "metadata": {},
     "output_type": "execute_result"
    }
   ],
   "source": [
    "# Checking for an element in a Tuple\n",
    "\n",
    "32 in e"
   ]
  },
  {
   "cell_type": "code",
   "execution_count": null,
   "id": "b0c2d545-1c90-454e-af74-17a15c6a4c07",
   "metadata": {},
   "outputs": [],
   "source": [
    "''' The major difference between Lists and Tuples is the concept of Mutability,i.e. Lists are Mutable(allows permanent change) whereas Tuples are immutable"
   ]
  }
 ],
 "metadata": {
  "kernelspec": {
   "display_name": "Python 3 (ipykernel)",
   "language": "python",
   "name": "python3"
  },
  "language_info": {
   "codemirror_mode": {
    "name": "ipython",
    "version": 3
   },
   "file_extension": ".py",
   "mimetype": "text/x-python",
   "name": "python",
   "nbconvert_exporter": "python",
   "pygments_lexer": "ipython3",
   "version": "3.10.8"
  }
 },
 "nbformat": 4,
 "nbformat_minor": 5
}
