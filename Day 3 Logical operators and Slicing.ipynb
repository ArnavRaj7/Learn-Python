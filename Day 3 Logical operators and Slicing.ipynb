{
 "cells": [
  {
   "cell_type": "markdown",
   "id": "0944f9cd-d334-4b32-9f48-bc2028f26789",
   "metadata": {},
   "source": [
    "# Logical Operators\n",
    "1. AND\n",
    "2. OR\n",
    "3. NOT"
   ]
  },
  {
   "cell_type": "code",
   "execution_count": 1,
   "id": "4216e0bc-626f-448d-9fc0-cc8441e3cb35",
   "metadata": {},
   "outputs": [
    {
     "data": {
      "text/plain": [
       "True"
      ]
     },
     "execution_count": 1,
     "metadata": {},
     "output_type": "execute_result"
    }
   ],
   "source": [
    "True and True"
   ]
  },
  {
   "cell_type": "code",
   "execution_count": 2,
   "id": "094aecb8-c479-4606-ab93-bf4994b1cdfe",
   "metadata": {},
   "outputs": [
    {
     "data": {
      "text/plain": [
       "False"
      ]
     },
     "execution_count": 2,
     "metadata": {},
     "output_type": "execute_result"
    }
   ],
   "source": [
    "False and False\n"
   ]
  },
  {
   "cell_type": "code",
   "execution_count": 3,
   "id": "11c361fc-12ef-4dd4-ba7f-270a35047aee",
   "metadata": {},
   "outputs": [
    {
     "data": {
      "text/plain": [
       "False"
      ]
     },
     "execution_count": 3,
     "metadata": {},
     "output_type": "execute_result"
    }
   ],
   "source": [
    "True and False"
   ]
  },
  {
   "cell_type": "code",
   "execution_count": 4,
   "id": "2a6b4afb-f7e9-4c3d-98f1-4d7fd1319dbe",
   "metadata": {},
   "outputs": [
    {
     "data": {
      "text/plain": [
       "False"
      ]
     },
     "execution_count": 4,
     "metadata": {},
     "output_type": "execute_result"
    }
   ],
   "source": [
    "False and True"
   ]
  },
  {
   "cell_type": "code",
   "execution_count": 1,
   "id": "9f23cf6f-7915-49ce-bc52-2446d3f1ef51",
   "metadata": {},
   "outputs": [
    {
     "name": "stdout",
     "output_type": "stream",
     "text": [
      "Value of Start is = 1\n",
      "Value of Stop is = 0\n",
      "Value of Start by negating Stop is 1\n",
      "Value of Stop by negating Start is 0\n"
     ]
    }
   ],
   "source": [
    "Start = 1\n",
    "Stop = 0\n",
    "\n",
    "#as it is\n",
    "\n",
    "print(f\"Value of Start is = {Start}\")\n",
    "print(f\"Value of Stop is = {Stop}\")\n",
    "\n",
    "# Alternatively\n",
    "\n",
    "print(f\"Value of Start by negating Stop is {int(not Stop)}\")\n",
    "print(f\"Value of Stop by negating Start is {int(not Start)}\")\n"
   ]
  },
  {
   "cell_type": "code",
   "execution_count": 5,
   "id": "f5e67c6c-d7d5-49f1-9b4f-b8162b39677d",
   "metadata": {},
   "outputs": [
    {
     "name": "stdout",
     "output_type": "stream",
     "text": [
      "Boolean Value of 0 is False\n",
      "Boolean Value of 1 is True\n",
      "Negation of 0 is True and Negation of 1 is False\n"
     ]
    }
   ],
   "source": [
    "zero = 0\n",
    "one = 1\n",
    "\n",
    "print(f\"Boolean Value of {zero} is {bool(zero)}\")\n",
    "print(f\"Boolean Value of {one} is {bool(one)}\")\n",
    "print(f\"Negation of {zero} is {not zero} and Negation of {one} is {not one}\")"
   ]
  },
  {
   "cell_type": "code",
   "execution_count": 6,
   "id": "cec8842d-e22d-4334-aa35-2b97a9f85ee5",
   "metadata": {},
   "outputs": [
    {
     "name": "stdout",
     "output_type": "stream",
     "text": [
      "Boolean Value of -1 is True\n",
      "Boolean Value of 1 is True\n"
     ]
    }
   ],
   "source": [
    "neg_no= -1\n",
    "pos_no= 1\n",
    "\n",
    "print(f\"Boolean Value of {neg_no} is {bool(neg_no)}\")\n",
    "print(f\"Boolean Value of {pos_no} is {bool(pos_no)}\")"
   ]
  },
  {
   "cell_type": "markdown",
   "id": "950b7f74-97ac-467e-8ef6-a608726a71bd",
   "metadata": {},
   "source": [
    "# Logical AND"
   ]
  },
  {
   "cell_type": "code",
   "execution_count": 7,
   "id": "b219f5e6-dfbc-461b-b6a1-4e0feaa8909a",
   "metadata": {},
   "outputs": [
    {
     "data": {
      "text/plain": [
       "True"
      ]
     },
     "execution_count": 7,
     "metadata": {},
     "output_type": "execute_result"
    }
   ],
   "source": [
    "True "
   ]
  },
  {
   "cell_type": "code",
   "execution_count": 8,
   "id": "c0856d14-067c-4234-9ed8-31cc767c269b",
   "metadata": {},
   "outputs": [
    {
     "data": {
      "text/plain": [
       "False"
      ]
     },
     "execution_count": 8,
     "metadata": {},
     "output_type": "execute_result"
    }
   ],
   "source": [
    "False"
   ]
  },
  {
   "cell_type": "code",
   "execution_count": 9,
   "id": "74077aa8-4599-430f-9fc2-d4b5d6ff7169",
   "metadata": {},
   "outputs": [
    {
     "data": {
      "text/plain": [
       "False"
      ]
     },
     "execution_count": 9,
     "metadata": {},
     "output_type": "execute_result"
    }
   ],
   "source": [
    "True and False"
   ]
  },
  {
   "cell_type": "code",
   "execution_count": 10,
   "id": "805429cc-4772-4f71-b82b-0d64c2571984",
   "metadata": {},
   "outputs": [
    {
     "data": {
      "text/plain": [
       "True"
      ]
     },
     "execution_count": 10,
     "metadata": {},
     "output_type": "execute_result"
    }
   ],
   "source": [
    "True and True"
   ]
  },
  {
   "cell_type": "code",
   "execution_count": 11,
   "id": "ebc53120-fbe0-405f-9eff-21edecdce4bb",
   "metadata": {},
   "outputs": [
    {
     "data": {
      "text/plain": [
       "False"
      ]
     },
     "execution_count": 11,
     "metadata": {},
     "output_type": "execute_result"
    }
   ],
   "source": [
    "False and False"
   ]
  },
  {
   "cell_type": "code",
   "execution_count": 12,
   "id": "83ef0bd4-ff27-439a-bd34-0cbaf2ae92fd",
   "metadata": {},
   "outputs": [
    {
     "data": {
      "text/plain": [
       "0"
      ]
     },
     "execution_count": 12,
     "metadata": {},
     "output_type": "execute_result"
    }
   ],
   "source": [
    "True * False"
   ]
  },
  {
   "cell_type": "code",
   "execution_count": 13,
   "id": "5f64376e-87aa-401d-922f-5cd6312e6876",
   "metadata": {},
   "outputs": [
    {
     "data": {
      "text/plain": [
       "1"
      ]
     },
     "execution_count": 13,
     "metadata": {},
     "output_type": "execute_result"
    }
   ],
   "source": [
    "True * True"
   ]
  },
  {
   "cell_type": "code",
   "execution_count": 14,
   "id": "356e9842-df91-45b5-aa37-93ae76b405f0",
   "metadata": {},
   "outputs": [
    {
     "data": {
      "text/plain": [
       "0"
      ]
     },
     "execution_count": 14,
     "metadata": {},
     "output_type": "execute_result"
    }
   ],
   "source": [
    "False * False"
   ]
  },
  {
   "cell_type": "code",
   "execution_count": 16,
   "id": "0764ad6e-4632-4a1a-94d9-c487c04ff32b",
   "metadata": {},
   "outputs": [
    {
     "data": {
      "text/plain": [
       "False"
      ]
     },
     "execution_count": 16,
     "metadata": {},
     "output_type": "execute_result"
    }
   ],
   "source": [
    "bool( 0)\n"
   ]
  },
  {
   "cell_type": "code",
   "execution_count": 1,
   "id": "1f4574ec-be4a-45de-8c4b-e48c9a68a5cb",
   "metadata": {},
   "outputs": [
    {
     "data": {
      "text/plain": [
       "True"
      ]
     },
     "execution_count": 1,
     "metadata": {},
     "output_type": "execute_result"
    }
   ],
   "source": [
    "not False"
   ]
  },
  {
   "cell_type": "code",
   "execution_count": 2,
   "id": "e442412e-42c7-4274-87f6-2a51cffee62a",
   "metadata": {},
   "outputs": [
    {
     "data": {
      "text/plain": [
       "True"
      ]
     },
     "execution_count": 2,
     "metadata": {},
     "output_type": "execute_result"
    }
   ],
   "source": [
    "not 0"
   ]
  },
  {
   "cell_type": "code",
   "execution_count": 3,
   "id": "4a69d7b0-b673-45d6-846b-8066e6a59155",
   "metadata": {},
   "outputs": [
    {
     "data": {
      "text/plain": [
       "False"
      ]
     },
     "execution_count": 3,
     "metadata": {},
     "output_type": "execute_result"
    }
   ],
   "source": [
    "not 1"
   ]
  },
  {
   "cell_type": "code",
   "execution_count": 4,
   "id": "bcc81a9e-158c-47bb-9ce0-7143c4f494fd",
   "metadata": {},
   "outputs": [
    {
     "data": {
      "text/plain": [
       "False"
      ]
     },
     "execution_count": 4,
     "metadata": {},
     "output_type": "execute_result"
    }
   ],
   "source": [
    "not 47"
   ]
  },
  {
   "cell_type": "code",
   "execution_count": 6,
   "id": "6f7a4109-9f8a-4322-9001-fc1443e915c7",
   "metadata": {},
   "outputs": [],
   "source": [
    "lt_a=[1,2,3]\n",
    "lt_b=[1,2,3]"
   ]
  },
  {
   "cell_type": "code",
   "execution_count": 7,
   "id": "52c15fb0-3445-4d1b-9869-d85a2bad8447",
   "metadata": {},
   "outputs": [
    {
     "name": "stdout",
     "output_type": "stream",
     "text": [
      "140173506550208\n",
      "140173506501184\n"
     ]
    }
   ],
   "source": [
    "print(id(lt_a))\n",
    "print(id(lt_b))"
   ]
  },
  {
   "cell_type": "code",
   "execution_count": 8,
   "id": "33970799-1a43-47dc-b85f-9be35240cc15",
   "metadata": {},
   "outputs": [
    {
     "data": {
      "text/plain": [
       "False"
      ]
     },
     "execution_count": 8,
     "metadata": {},
     "output_type": "execute_result"
    }
   ],
   "source": [
    "lt_a is lt_b"
   ]
  },
  {
   "cell_type": "code",
   "execution_count": 9,
   "id": "751d9e61-d24e-4791-bbd5-d2c9f8a98fd5",
   "metadata": {},
   "outputs": [],
   "source": [
    "lt_a=[1,2,3]\n",
    "lt_b = lt_a"
   ]
  },
  {
   "cell_type": "code",
   "execution_count": 10,
   "id": "43b6588c-1f14-4c6a-ab05-e326a14ecc0a",
   "metadata": {},
   "outputs": [
    {
     "data": {
      "text/plain": [
       "True"
      ]
     },
     "execution_count": 10,
     "metadata": {},
     "output_type": "execute_result"
    }
   ],
   "source": [
    "lt_a is lt_b"
   ]
  },
  {
   "cell_type": "code",
   "execution_count": 11,
   "id": "a55189e1-716d-49cc-8e65-6363b0ed4ea4",
   "metadata": {},
   "outputs": [
    {
     "name": "stdout",
     "output_type": "stream",
     "text": [
      "140173506558016\n",
      "140173506558016\n"
     ]
    }
   ],
   "source": [
    "print(id(lt_a))\n",
    "print(id(lt_b))"
   ]
  },
  {
   "cell_type": "code",
   "execution_count": 12,
   "id": "d5c958f3-bff1-417d-b7d6-488919184cc3",
   "metadata": {},
   "outputs": [],
   "source": [
    "lt_a=[1,2,3]\n",
    "lt_b=[1,2,3]"
   ]
  },
  {
   "cell_type": "code",
   "execution_count": 13,
   "id": "d8f49c14-2fea-46e2-91cd-0bd707cf1306",
   "metadata": {},
   "outputs": [
    {
     "data": {
      "text/plain": [
       "True"
      ]
     },
     "execution_count": 13,
     "metadata": {},
     "output_type": "execute_result"
    }
   ],
   "source": [
    "lt_a is not lt_b"
   ]
  },
  {
   "cell_type": "code",
   "execution_count": 15,
   "id": "b03f0ba6-06c7-45fe-aa20-fe0f634df820",
   "metadata": {},
   "outputs": [
    {
     "data": {
      "text/plain": [
       "True"
      ]
     },
     "execution_count": 15,
     "metadata": {},
     "output_type": "execute_result"
    }
   ],
   "source": [
    "# == checks the elements inside the list\n",
    "lt_a == lt_b"
   ]
  },
  {
   "cell_type": "markdown",
   "id": "02029bce-8d43-466c-858d-8dd4170fca87",
   "metadata": {},
   "source": [
    "'is' and 'is not' functions compares the memory address of 2 variables/data types"
   ]
  },
  {
   "cell_type": "code",
   "execution_count": 16,
   "id": "ea8dc337-6793-480e-adf0-3909897b244d",
   "metadata": {},
   "outputs": [],
   "source": [
    "a=2\n",
    "b=2"
   ]
  },
  {
   "cell_type": "code",
   "execution_count": 17,
   "id": "a813f813-d554-44b4-954e-b84c95d538f5",
   "metadata": {},
   "outputs": [
    {
     "data": {
      "text/plain": [
       "True"
      ]
     },
     "execution_count": 17,
     "metadata": {},
     "output_type": "execute_result"
    }
   ],
   "source": [
    "a is b"
   ]
  },
  {
   "cell_type": "code",
   "execution_count": 18,
   "id": "30ac7ca3-3211-4980-84e0-2064f86eb8f1",
   "metadata": {},
   "outputs": [
    {
     "name": "stdout",
     "output_type": "stream",
     "text": [
      "140173615841552\n",
      "140173615841552\n"
     ]
    }
   ],
   "source": [
    "print(id(a))\n",
    "print(id(b))"
   ]
  },
  {
   "cell_type": "markdown",
   "id": "6878bb5c-ad8a-4001-9614-a35caecfabd4",
   "metadata": {},
   "source": [
    "# Mutability"
   ]
  },
  {
   "cell_type": "code",
   "execution_count": 19,
   "id": "40663a7d-a970-40b1-8179-f8ade5e7cf8e",
   "metadata": {},
   "outputs": [],
   "source": [
    "lt=[1,2,3,4]\n",
    "str=\"Arnav\""
   ]
  },
  {
   "cell_type": "code",
   "execution_count": 20,
   "id": "c883cf53-cf6e-4a49-b5cb-0f0a63decc56",
   "metadata": {},
   "outputs": [],
   "source": [
    "lt[0]=48"
   ]
  },
  {
   "cell_type": "code",
   "execution_count": 21,
   "id": "29b82fb5-8330-4803-bcb5-82d0c91be615",
   "metadata": {},
   "outputs": [
    {
     "data": {
      "text/plain": [
       "[48, 2, 3, 4]"
      ]
     },
     "execution_count": 21,
     "metadata": {},
     "output_type": "execute_result"
    }
   ],
   "source": [
    "lt"
   ]
  },
  {
   "cell_type": "code",
   "execution_count": 22,
   "id": "cea6a480-dd03-4dce-9d67-7839562c8d6e",
   "metadata": {},
   "outputs": [
    {
     "data": {
      "text/plain": [
       "'Arnav'"
      ]
     },
     "execution_count": 22,
     "metadata": {},
     "output_type": "execute_result"
    }
   ],
   "source": [
    "str"
   ]
  },
  {
   "cell_type": "code",
   "execution_count": 24,
   "id": "8e8d7991-0371-4af7-8c40-f0a7ef5a47b1",
   "metadata": {},
   "outputs": [
    {
     "data": {
      "text/plain": [
       "'A'"
      ]
     },
     "execution_count": 24,
     "metadata": {},
     "output_type": "execute_result"
    }
   ],
   "source": [
    "str[0]"
   ]
  },
  {
   "cell_type": "code",
   "execution_count": 25,
   "id": "a4c45736-8076-4afd-bac9-91e9754d95d1",
   "metadata": {},
   "outputs": [
    {
     "ename": "TypeError",
     "evalue": "'str' object does not support item assignment",
     "output_type": "error",
     "traceback": [
      "\u001b[0;31m---------------------------------------------------------------------------\u001b[0m",
      "\u001b[0;31mTypeError\u001b[0m                                 Traceback (most recent call last)",
      "Cell \u001b[0;32mIn[25], line 1\u001b[0m\n\u001b[0;32m----> 1\u001b[0m \u001b[38;5;28;43mstr\u001b[39;49m\u001b[43m[\u001b[49m\u001b[38;5;241;43m0\u001b[39;49m\u001b[43m]\u001b[49m\u001b[38;5;241m=\u001b[39m\u001b[38;5;124m\"\u001b[39m\u001b[38;5;124mR\u001b[39m\u001b[38;5;124m\"\u001b[39m\n",
      "\u001b[0;31mTypeError\u001b[0m: 'str' object does not support item assignment"
     ]
    }
   ],
   "source": [
    "str[0]=\"R\""
   ]
  },
  {
   "cell_type": "markdown",
   "id": "828dda11-dadd-43b4-8253-2613e5777b6b",
   "metadata": {},
   "source": [
    "We can change the value of element in lists but not in String;\n",
    "This is because Lists are Mutable but Strings are Immutable"
   ]
  },
  {
   "cell_type": "markdown",
   "id": "67f9e924-c704-4096-a0f7-7d3c92666b06",
   "metadata": {},
   "source": [
    "# Arithmetic Operations"
   ]
  },
  {
   "cell_type": "code",
   "execution_count": 4,
   "id": "7e742201-2a41-40ea-91a9-bad26f6716c8",
   "metadata": {},
   "outputs": [],
   "source": [
    "a=15\n",
    "b=63"
   ]
  },
  {
   "cell_type": "code",
   "execution_count": 27,
   "id": "8086d124-e54b-4d29-9b21-b22b5c41222a",
   "metadata": {},
   "outputs": [
    {
     "data": {
      "text/plain": [
       "78"
      ]
     },
     "execution_count": 27,
     "metadata": {},
     "output_type": "execute_result"
    }
   ],
   "source": [
    "a+b"
   ]
  },
  {
   "cell_type": "code",
   "execution_count": 28,
   "id": "f69c3214-8a83-43a7-8269-50940f949e70",
   "metadata": {},
   "outputs": [
    {
     "data": {
      "text/plain": [
       "-48"
      ]
     },
     "execution_count": 28,
     "metadata": {},
     "output_type": "execute_result"
    }
   ],
   "source": [
    "a-b"
   ]
  },
  {
   "cell_type": "code",
   "execution_count": 29,
   "id": "ebea39b9-7b8c-4f40-a6c8-7cda88c67292",
   "metadata": {},
   "outputs": [
    {
     "data": {
      "text/plain": [
       "4.2"
      ]
     },
     "execution_count": 29,
     "metadata": {},
     "output_type": "execute_result"
    }
   ],
   "source": [
    "b/a"
   ]
  },
  {
   "cell_type": "code",
   "execution_count": 30,
   "id": "e44f8036-5b8a-4736-84f5-1b9346eca61a",
   "metadata": {},
   "outputs": [
    {
     "data": {
      "text/plain": [
       "4"
      ]
     },
     "execution_count": 30,
     "metadata": {},
     "output_type": "execute_result"
    }
   ],
   "source": [
    "b//a"
   ]
  },
  {
   "cell_type": "code",
   "execution_count": 31,
   "id": "aa3d02ae-8106-4831-a86b-7fa87caadfde",
   "metadata": {},
   "outputs": [
    {
     "data": {
      "text/plain": [
       "0"
      ]
     },
     "execution_count": 31,
     "metadata": {},
     "output_type": "execute_result"
    }
   ],
   "source": [
    "a//b"
   ]
  },
  {
   "cell_type": "code",
   "execution_count": 32,
   "id": "d6145d6c-6645-4d6d-9092-d02a7074f8f6",
   "metadata": {},
   "outputs": [
    {
     "data": {
      "text/plain": [
       "0.23809523809523808"
      ]
     },
     "execution_count": 32,
     "metadata": {},
     "output_type": "execute_result"
    }
   ],
   "source": [
    "a/b"
   ]
  },
  {
   "cell_type": "code",
   "execution_count": 33,
   "id": "558bc7d8-5269-411b-99ac-52f1cfeea22e",
   "metadata": {},
   "outputs": [
    {
     "data": {
      "text/plain": [
       "15"
      ]
     },
     "execution_count": 33,
     "metadata": {},
     "output_type": "execute_result"
    }
   ],
   "source": [
    "a%b"
   ]
  },
  {
   "cell_type": "code",
   "execution_count": 7,
   "id": "fd300478-22c2-433a-be92-cee509068e7d",
   "metadata": {},
   "outputs": [
    {
     "data": {
      "text/plain": [
       "3"
      ]
     },
     "execution_count": 7,
     "metadata": {},
     "output_type": "execute_result"
    }
   ],
   "source": [
    "b%a"
   ]
  },
  {
   "cell_type": "markdown",
   "id": "2e8137be-558d-4bb5-b148-597b2635aa3a",
   "metadata": {},
   "source": [
    "# Slicing"
   ]
  },
  {
   "cell_type": "code",
   "execution_count": 19,
   "id": "40f7e377-6567-49f2-9a08-b3aaeb0b7a8c",
   "metadata": {},
   "outputs": [],
   "source": [
    "str=\"Arnav is the Best\""
   ]
  },
  {
   "cell_type": "code",
   "execution_count": 2,
   "id": "dff50550-961c-4e74-96f9-15688ecc6239",
   "metadata": {},
   "outputs": [
    {
     "data": {
      "text/plain": [
       "'a'"
      ]
     },
     "execution_count": 2,
     "metadata": {},
     "output_type": "execute_result"
    }
   ],
   "source": [
    "str[3]"
   ]
  },
  {
   "cell_type": "code",
   "execution_count": 3,
   "id": "e3c62dc8-92e9-4941-a464-aa6b2104ca84",
   "metadata": {},
   "outputs": [
    {
     "data": {
      "text/plain": [
       "'av is the Best'"
      ]
     },
     "execution_count": 3,
     "metadata": {},
     "output_type": "execute_result"
    }
   ],
   "source": [
    "str[3:]"
   ]
  },
  {
   "cell_type": "code",
   "execution_count": 4,
   "id": "3362c4c2-8314-4eb4-a86f-dcfd2e430cd8",
   "metadata": {},
   "outputs": [
    {
     "data": {
      "text/plain": [
       "'t'"
      ]
     },
     "execution_count": 4,
     "metadata": {},
     "output_type": "execute_result"
    }
   ],
   "source": [
    "str[-1]"
   ]
  },
  {
   "cell_type": "code",
   "execution_count": 10,
   "id": "e92e719a-0891-4733-9030-79df3c4e0120",
   "metadata": {},
   "outputs": [
    {
     "data": {
      "text/plain": [
       "'nav'"
      ]
     },
     "execution_count": 10,
     "metadata": {},
     "output_type": "execute_result"
    }
   ],
   "source": [
    "str[2:5]"
   ]
  },
  {
   "cell_type": "code",
   "execution_count": 14,
   "id": "7d0f5bee-4cee-4531-89db-1aa371b802a1",
   "metadata": {},
   "outputs": [
    {
     "data": {
      "text/plain": [
       "'Best'"
      ]
     },
     "execution_count": 14,
     "metadata": {},
     "output_type": "execute_result"
    }
   ],
   "source": [
    "str[-4:]"
   ]
  },
  {
   "cell_type": "code",
   "execution_count": 15,
   "id": "a05aeccf-1238-4ede-99f0-0f5477481f02",
   "metadata": {},
   "outputs": [
    {
     "data": {
      "text/plain": [
       "'the B'"
      ]
     },
     "execution_count": 15,
     "metadata": {},
     "output_type": "execute_result"
    }
   ],
   "source": [
    "str[-8:-3]"
   ]
  },
  {
   "cell_type": "code",
   "execution_count": 16,
   "id": "1104f5c8-ea92-4fc7-ae55-98ce8f5ab707",
   "metadata": {},
   "outputs": [
    {
     "data": {
      "text/plain": [
       "''"
      ]
     },
     "execution_count": 16,
     "metadata": {},
     "output_type": "execute_result"
    }
   ],
   "source": [
    "str[-7:2]"
   ]
  },
  {
   "cell_type": "code",
   "execution_count": 22,
   "id": "17f5ab21-8554-4564-82bd-63718710a227",
   "metadata": {},
   "outputs": [
    {
     "data": {
      "text/plain": [
       "'Anvi h et'"
      ]
     },
     "execution_count": 22,
     "metadata": {},
     "output_type": "execute_result"
    }
   ],
   "source": [
    "str[::2]"
   ]
  },
  {
   "cell_type": "code",
   "execution_count": 23,
   "id": "1ff72211-6d25-49b7-bef6-4c2af6321e74",
   "metadata": {},
   "outputs": [
    {
     "data": {
      "text/plain": [
       "'A'"
      ]
     },
     "execution_count": 23,
     "metadata": {},
     "output_type": "execute_result"
    }
   ],
   "source": [
    "str[0:3:7]"
   ]
  },
  {
   "cell_type": "code",
   "execution_count": 31,
   "id": "975af27c-c48a-4016-a9fd-f60e1a3b846e",
   "metadata": {},
   "outputs": [
    {
     "name": "stdout",
     "output_type": "stream",
     "text": [
      " Arnav \n",
      " Arnav  Arnav \n",
      " Arnav  Arnav  Arnav \n",
      " Arnav  Arnav  Arnav  Arnav \n",
      " Arnav  Arnav  Arnav  Arnav  Arnav \n",
      " Arnav  Arnav  Arnav  Arnav  Arnav  Arnav \n"
     ]
    }
   ],
   "source": [
    "n=6\n",
    "\n",
    "for x in range(0,n):\n",
    "    for j in range(0,x+1):\n",
    "        print(\" Arnav \",end=\"\")\n",
    "    print(\"\\r\")"
   ]
  },
  {
   "cell_type": "code",
   "execution_count": 35,
   "id": "cd7f3999-2c65-4c0e-a76e-bf9869c7fd5f",
   "metadata": {},
   "outputs": [],
   "source": [
    "name=\"Arnavisthebest\"\n"
   ]
  },
  {
   "cell_type": "code",
   "execution_count": 39,
   "id": "19bdaca9-6088-45dd-be6d-d96674ebee03",
   "metadata": {},
   "outputs": [
    {
     "data": {
      "text/plain": [
       "'rait'"
      ]
     },
     "execution_count": 39,
     "metadata": {},
     "output_type": "execute_result"
    }
   ],
   "source": [
    "name[1:9:2]"
   ]
  },
  {
   "cell_type": "code",
   "execution_count": 40,
   "id": "0de65385-cc0f-44dc-a663-a2e9d719abeb",
   "metadata": {},
   "outputs": [],
   "source": [
    "xyz=\"data science course\""
   ]
  },
  {
   "cell_type": "code",
   "execution_count": 44,
   "id": "4b7c5fda-f512-4f74-a9e1-061a69638e98",
   "metadata": {},
   "outputs": [
    {
     "data": {
      "text/plain": [
       "'science'"
      ]
     },
     "execution_count": 44,
     "metadata": {},
     "output_type": "execute_result"
    }
   ],
   "source": [
    "xyz[5:12]"
   ]
  },
  {
   "cell_type": "code",
   "execution_count": 59,
   "id": "615e31de-a2fd-4b62-af80-d7a129d171d5",
   "metadata": {},
   "outputs": [
    {
     "data": {
      "text/plain": [
       "'ecneics'"
      ]
     },
     "execution_count": 59,
     "metadata": {},
     "output_type": "execute_result"
    }
   ],
   "source": [
    "xyz[11:4:-1]"
   ]
  },
  {
   "cell_type": "code",
   "execution_count": 2,
   "id": "bd3ce794-ea3b-410a-89e9-4baa49091ba0",
   "metadata": {},
   "outputs": [],
   "source": [
    "xyz=\"data science course\""
   ]
  },
  {
   "cell_type": "code",
   "execution_count": 3,
   "id": "42b9351f-61d1-434d-9f37-ff64335d4ab8",
   "metadata": {},
   "outputs": [
    {
     "data": {
      "text/plain": [
       "'data science coursedata science coursedata science coursedata science coursedata science course'"
      ]
     },
     "execution_count": 3,
     "metadata": {},
     "output_type": "execute_result"
    }
   ],
   "source": [
    "xyz*5"
   ]
  },
  {
   "cell_type": "code",
   "execution_count": 4,
   "id": "96e1dc38-935a-4d55-9c7d-2225978b1bbb",
   "metadata": {},
   "outputs": [
    {
     "data": {
      "text/plain": [
       "19"
      ]
     },
     "execution_count": 4,
     "metadata": {},
     "output_type": "execute_result"
    }
   ],
   "source": [
    "len(xyz)"
   ]
  },
  {
   "cell_type": "code",
   "execution_count": 5,
   "id": "7ec2c180-fdec-414b-a1e4-3b09dc791074",
   "metadata": {},
   "outputs": [
    {
     "data": {
      "text/plain": [
       "5"
      ]
     },
     "execution_count": 5,
     "metadata": {},
     "output_type": "execute_result"
    }
   ],
   "source": [
    "xyz.find(\"s\")"
   ]
  },
  {
   "cell_type": "code",
   "execution_count": 6,
   "id": "9981b78c-f140-4f81-b064-37c68922bdf0",
   "metadata": {},
   "outputs": [
    {
     "data": {
      "text/plain": [
       "5"
      ]
     },
     "execution_count": 6,
     "metadata": {},
     "output_type": "execute_result"
    }
   ],
   "source": [
    "xyz.find(\"sc\")"
   ]
  },
  {
   "cell_type": "code",
   "execution_count": 8,
   "id": "713f0d86-5607-4d57-9630-293b66c14434",
   "metadata": {},
   "outputs": [
    {
     "data": {
      "text/plain": [
       "8"
      ]
     },
     "execution_count": 8,
     "metadata": {},
     "output_type": "execute_result"
    }
   ],
   "source": [
    "xyz.find(\"e\",5,14)"
   ]
  },
  {
   "cell_type": "code",
   "execution_count": 9,
   "id": "67cedb56-3015-4206-9c98-42baf689c88e",
   "metadata": {},
   "outputs": [
    {
     "data": {
      "text/plain": [
       "2"
      ]
     },
     "execution_count": 9,
     "metadata": {},
     "output_type": "execute_result"
    }
   ],
   "source": [
    "xyz.count(\"a\")"
   ]
  },
  {
   "cell_type": "code",
   "execution_count": 10,
   "id": "ae877670-d9df-4df3-8524-a3fb952e61e1",
   "metadata": {},
   "outputs": [
    {
     "data": {
      "text/plain": [
       "20"
      ]
     },
     "execution_count": 10,
     "metadata": {},
     "output_type": "execute_result"
    }
   ],
   "source": [
    "xyz.count(\"\")"
   ]
  },
  {
   "cell_type": "code",
   "execution_count": 12,
   "id": "7b010ce8-9201-43ed-a120-7c4f482e1ed1",
   "metadata": {},
   "outputs": [
    {
     "data": {
      "text/plain": [
       "2"
      ]
     },
     "execution_count": 12,
     "metadata": {},
     "output_type": "execute_result"
    }
   ],
   "source": [
    "xyz.count(' ')"
   ]
  },
  {
   "cell_type": "code",
   "execution_count": 13,
   "id": "bb103cb1-5985-4fd6-a564-18b773d17ad7",
   "metadata": {},
   "outputs": [
    {
     "data": {
      "text/plain": [
       "['data', 'science', 'course']"
      ]
     },
     "execution_count": 13,
     "metadata": {},
     "output_type": "execute_result"
    }
   ],
   "source": [
    "xyz.split()"
   ]
  },
  {
   "cell_type": "code",
   "execution_count": 14,
   "id": "24b4da4b-cece-4866-8173-9a23ca96da66",
   "metadata": {},
   "outputs": [
    {
     "data": {
      "text/plain": [
       "('data ', 's', 'cience course')"
      ]
     },
     "execution_count": 14,
     "metadata": {},
     "output_type": "execute_result"
    }
   ],
   "source": [
    "xyz.partition('s')"
   ]
  },
  {
   "cell_type": "code",
   "execution_count": 15,
   "id": "1f3a6a86-8f2e-4426-92ca-e193e0c45f63",
   "metadata": {},
   "outputs": [
    {
     "name": "stdout",
     "output_type": "stream",
     "text": [
      "['0', '10', '20', '30', '40', '50']\n"
     ]
    }
   ],
   "source": [
    "list_out=[]\n",
    "\n",
    "for i in range(0,51,10):\n",
    "\n",
    "    list_out.append(str(i))\n",
    "\n",
    "print(list_out)"
   ]
  },
  {
   "cell_type": "code",
   "execution_count": 16,
   "id": "6d4aabe3-0c02-45dc-a44a-5851eb90d184",
   "metadata": {},
   "outputs": [
    {
     "name": "stdout",
     "output_type": "stream",
     "text": [
      "{1, 4, 9, 16, 25}\n"
     ]
    }
   ],
   "source": [
    "numbers = (1,2,3,4,5, 5,4,3,2,1)\n",
    "\n",
    "list=[]\n",
    "\n",
    "for number in numbers:\n",
    "\n",
    "   list.append(number**2)\n",
    "\n",
    "print(set(list))"
   ]
  },
  {
   "cell_type": "code",
   "execution_count": 17,
   "id": "75946aea-ec02-4390-8e42-87b64ec75fe9",
   "metadata": {},
   "outputs": [
    {
     "data": {
      "text/plain": [
       "'DATA SCIENCE COURSE'"
      ]
     },
     "execution_count": 17,
     "metadata": {},
     "output_type": "execute_result"
    }
   ],
   "source": [
    "# String Upper and Lower\n",
    "\n",
    "xyz.upper()"
   ]
  },
  {
   "cell_type": "code",
   "execution_count": 18,
   "id": "d07b2e49-ec6c-4975-9462-5c70ae8b5e17",
   "metadata": {},
   "outputs": [
    {
     "data": {
      "text/plain": [
       "'data science course'"
      ]
     },
     "execution_count": 18,
     "metadata": {},
     "output_type": "execute_result"
    }
   ],
   "source": [
    "xyz.lower()"
   ]
  },
  {
   "cell_type": "code",
   "execution_count": 19,
   "id": "64c25bad-1391-4ca1-9de2-f19ca8b45612",
   "metadata": {},
   "outputs": [
    {
     "data": {
      "text/plain": [
       "'DATA SCIENCE COURSE'"
      ]
     },
     "execution_count": 19,
     "metadata": {},
     "output_type": "execute_result"
    }
   ],
   "source": [
    "# SWAPCASE- converts upper to lower and vice versa\n",
    "\n",
    "xyz.swapcase()"
   ]
  },
  {
   "cell_type": "code",
   "execution_count": 20,
   "id": "77ce9369-22de-4361-90b1-c0bd815d631f",
   "metadata": {},
   "outputs": [
    {
     "data": {
      "text/plain": [
       "'Data Science Course'"
      ]
     },
     "execution_count": 20,
     "metadata": {},
     "output_type": "execute_result"
    }
   ],
   "source": [
    "xyz.title()"
   ]
  },
  {
   "cell_type": "code",
   "execution_count": null,
   "id": "d7f9c6e2-ac6d-4af6-aadb-21c17635e921",
   "metadata": {},
   "outputs": [],
   "source": []
  }
 ],
 "metadata": {
  "kernelspec": {
   "display_name": "Python 3 (ipykernel)",
   "language": "python",
   "name": "python3"
  },
  "language_info": {
   "codemirror_mode": {
    "name": "ipython",
    "version": 3
   },
   "file_extension": ".py",
   "mimetype": "text/x-python",
   "name": "python",
   "nbconvert_exporter": "python",
   "pygments_lexer": "ipython3",
   "version": "3.10.8"
  }
 },
 "nbformat": 4,
 "nbformat_minor": 5
}
