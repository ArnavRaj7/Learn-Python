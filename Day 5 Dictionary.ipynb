{
 "cells": [
  {
   "cell_type": "markdown",
   "id": "2f1b6b39-74f3-410a-9db4-923f487d6a87",
   "metadata": {},
   "source": [
    "# Dictionary"
   ]
  },
  {
   "cell_type": "raw",
   "id": "28a13140-35ff-45b5-921b-4aca4305022b",
   "metadata": {},
   "source": [
    "A Dictionary Stores data in the form ok Key and Value Pair, int he form a:b;\n",
    "Where 'a' and 'b' could be anything (string,num,etc) but with some Restrictions."
   ]
  },
  {
   "cell_type": "code",
   "execution_count": 1,
   "id": "0ab6ffcc-5781-457e-85df-50fc0a710e06",
   "metadata": {},
   "outputs": [],
   "source": [
    "d={\"name\":\"Arnav\",\"email\":\"xyz@gmail.com\"}"
   ]
  },
  {
   "cell_type": "code",
   "execution_count": 2,
   "id": "ae5756b2-6251-43c8-a673-3ebefec0f300",
   "metadata": {},
   "outputs": [
    {
     "data": {
      "text/plain": [
       "{'name': 'Arnav', 'email': 'xyz@gmail.com'}"
      ]
     },
     "execution_count": 2,
     "metadata": {},
     "output_type": "execute_result"
    }
   ],
   "source": [
    "d"
   ]
  },
  {
   "cell_type": "code",
   "execution_count": 3,
   "id": "76fbb088-bf03-4016-96de-1f949a3e144a",
   "metadata": {},
   "outputs": [
    {
     "data": {
      "text/plain": [
       "dict"
      ]
     },
     "execution_count": 3,
     "metadata": {},
     "output_type": "execute_result"
    }
   ],
   "source": [
    "type(d)"
   ]
  },
  {
   "cell_type": "code",
   "execution_count": 8,
   "id": "2c05eca7-3474-4a9a-a676-ae1e04e6f655",
   "metadata": {},
   "outputs": [
    {
     "data": {
      "text/plain": [
       "{'name': 'Arnav Lakha'}"
      ]
     },
     "execution_count": 8,
     "metadata": {},
     "output_type": "execute_result"
    }
   ],
   "source": [
    "## If we Try to use a 'Key' name twice in a dictionary, it will update to the latest Value, for example:\n",
    "\n",
    "s= {\"name\": \"Arnav\",\"name\": \"Arnav Lakha\"}\n",
    "s"
   ]
  },
  {
   "cell_type": "code",
   "execution_count": 10,
   "id": "1e0ad18c-5312-438c-84ed-5da671c21721",
   "metadata": {},
   "outputs": [
    {
     "name": "stdout",
     "output_type": "stream",
     "text": [
      "{12: 'xyz'} {12.67: 'efg'} {True: 456} {(2, 3, 4): 'qwerty'}\n"
     ]
    }
   ],
   "source": [
    "# Let's Try using various Data Types for Keys:\n",
    "\n",
    "t={12:\"xyz\"} # Using a Number as Key\n",
    "w={12.67:\"efg\"} # Using Float as Key\n",
    "q={True: 456} # Using a Bool  Value as Key\n",
    "r={(2,3,4):\"qwerty\"} # Using Tuple as Key\n",
    "\n",
    "print(t,w,q,r)"
   ]
  },
  {
   "cell_type": "raw",
   "id": "f2c24192-14ee-4ffa-9686-3fb4fb988acf",
   "metadata": {},
   "source": [
    "But Lists,Sets and special characters(@,#) won't work when used as a Key Value"
   ]
  },
  {
   "cell_type": "code",
   "execution_count": 14,
   "id": "b53377dd-b153-4fb9-b073-0f214c781351",
   "metadata": {},
   "outputs": [
    {
     "data": {
      "text/plain": [
       "({'Course_name': ['Data Science', 'BTech', 'Web Dev']},\n",
       " {'Roll_no': (112, 106, 126, 193)},\n",
       " {'Section': {'A', 'B', 'C'}},\n",
       " {'Key': {'Name': {'Arnav', 'Shashank'}}})"
      ]
     },
     "execution_count": 14,
     "metadata": {},
     "output_type": "execute_result"
    }
   ],
   "source": [
    "# Let's See if We can use Various Data Types for Values:\n",
    "\n",
    "a={\"Course_name\":[\"Data Science\",\"BTech\",\"Web Dev\"]} # Using a List as a Value for a Key\n",
    "b={\"Roll_no\":(112,106,126,193)} #Using a Tuple as a Value for a Key\n",
    "c={\"Section\":{'A','B','C'}} #Using a Set as a Value for a Key\n",
    "d={\"Key\":{\"Name\":{\"Arnav\",\"Shashank\"}}} #Using a Dictionary as a Value for a Key\n",
    "\n",
    "a,b,c,d"
   ]
  },
  {
   "cell_type": "code",
   "execution_count": 44,
   "id": "17cb660f-2655-4872-9b53-0fe365c376b5",
   "metadata": {},
   "outputs": [],
   "source": [
    "qw={\"Batch Name\":[\"Data Dcience\",\"DSA\",\"Java\"],\"Mentors\":(\"Krish Naik\",\"Sudhanshu\"),\"Start_date\":[14,28,21]}"
   ]
  },
  {
   "cell_type": "code",
   "execution_count": 16,
   "id": "4d27b42d-baf7-47de-a9c6-f63142e56574",
   "metadata": {},
   "outputs": [
    {
     "data": {
      "text/plain": [
       "{'Batch Name': ['Data Dcience', 'DSA', 'Java'],\n",
       " 'Mentors': ['Krish Naik', 'Sudhanshu'],\n",
       " 'Start_date': [14, 28, 21]}"
      ]
     },
     "execution_count": 16,
     "metadata": {},
     "output_type": "execute_result"
    }
   ],
   "source": [
    "qw"
   ]
  },
  {
   "cell_type": "code",
   "execution_count": 45,
   "id": "d55f64de-3759-4806-9706-130069f9eeff",
   "metadata": {},
   "outputs": [],
   "source": [
    "# Let's Try adding new Key and Value pair to existing Dictionary\n",
    "qw[\"timings\"]=(4,6,8)"
   ]
  },
  {
   "cell_type": "code",
   "execution_count": 18,
   "id": "6a532fa3-6949-4561-9748-7dcd43eb5720",
   "metadata": {},
   "outputs": [
    {
     "data": {
      "text/plain": [
       "{'Batch Name': ['Data Dcience', 'DSA', 'Java'],\n",
       " 'Mentors': ['Krish Naik', 'Sudhanshu'],\n",
       " 'Start_date': [14, 28, 21],\n",
       " 'timings': (4, 6, 8)}"
      ]
     },
     "execution_count": 18,
     "metadata": {},
     "output_type": "execute_result"
    }
   ],
   "source": [
    "qw"
   ]
  },
  {
   "cell_type": "code",
   "execution_count": 46,
   "id": "aacbce75-692d-4a58-b591-2292de939a2f",
   "metadata": {},
   "outputs": [
    {
     "data": {
      "text/plain": [
       "{'Batch Name': ['Data Dcience', 'DSA', 'Java'],\n",
       " 'Mentors': ('Krish Naik', 'Sudhanshu', 'Shobha Tyagi'),\n",
       " 'Start_date': [14, 28, 21],\n",
       " 'timings': (4, 6, 8)}"
      ]
     },
     "execution_count": 46,
     "metadata": {},
     "output_type": "execute_result"
    }
   ],
   "source": [
    "# We can also update a current Key-Value Pair in a dictionary\n",
    "# For Example:\n",
    "qw[\"Mentors\"]=('Krish Naik','Sudhanshu','Shobha Tyagi')\n",
    "qw"
   ]
  },
  {
   "cell_type": "code",
   "execution_count": 47,
   "id": "578280ff-2b3a-4991-9139-ad718a1c816e",
   "metadata": {},
   "outputs": [
    {
     "data": {
      "text/plain": [
       "(['Data Dcience', 'DSA', 'Java'],\n",
       " ('Krish Naik', 'Sudhanshu', 'Shobha Tyagi'),\n",
       " [14, 28, 21],\n",
       " (4, 6, 8))"
      ]
     },
     "execution_count": 47,
     "metadata": {},
     "output_type": "execute_result"
    }
   ],
   "source": [
    "# Extract a particular Dataset from a Dictionary\n",
    "a=qw[\"Batch Name\"]\n",
    "b=qw[\"Mentors\"]\n",
    "c=qw[\"Start_date\"]\n",
    "d=qw[\"timings\"]\n",
    "a,b,c,d"
   ]
  },
  {
   "cell_type": "code",
   "execution_count": 48,
   "id": "445cea05-a83a-4344-8143-ad9e3d934e76",
   "metadata": {},
   "outputs": [
    {
     "data": {
      "text/plain": [
       "tuple"
      ]
     },
     "execution_count": 48,
     "metadata": {},
     "output_type": "execute_result"
    }
   ],
   "source": [
    "type(b)"
   ]
  },
  {
   "cell_type": "code",
   "execution_count": 50,
   "id": "fbc00a82-9871-4054-a72b-5daddaaa10ea",
   "metadata": {},
   "outputs": [],
   "source": [
    "qw[\"College\"] = \"Manav Rachna\""
   ]
  },
  {
   "cell_type": "code",
   "execution_count": 51,
   "id": "3f344b91-6f99-4c08-a29e-35fd515b4b51",
   "metadata": {},
   "outputs": [
    {
     "data": {
      "text/plain": [
       "{'Batch Name': ['Data Dcience', 'DSA', 'Java'],\n",
       " 'Mentors': ('Krish Naik', 'Sudhanshu', 'Shobha Tyagi'),\n",
       " 'Start_date': [14, 28, 21],\n",
       " 'timings': (4, 6, 8),\n",
       " 'College': 'Manav Rachna'}"
      ]
     },
     "execution_count": 51,
     "metadata": {},
     "output_type": "execute_result"
    }
   ],
   "source": [
    "qw"
   ]
  },
  {
   "cell_type": "code",
   "execution_count": 52,
   "id": "7b44e914-5ef6-4afd-b488-03c0a547d2cc",
   "metadata": {},
   "outputs": [
    {
     "data": {
      "text/plain": [
       "'MANAV RACHNA'"
      ]
     },
     "execution_count": 52,
     "metadata": {},
     "output_type": "execute_result"
    }
   ],
   "source": [
    "qw[\"College\"].upper()"
   ]
  },
  {
   "cell_type": "code",
   "execution_count": 53,
   "id": "6b2f4577-01f0-4df0-a583-74d7852d7306",
   "metadata": {},
   "outputs": [],
   "source": [
    "we={\"Key\":{\"Name\":\"Arnav\",\"Class\":\"CSB\"}}"
   ]
  },
  {
   "cell_type": "code",
   "execution_count": 54,
   "id": "0eb0d2a0-6a3e-4ed3-b6d3-2c9ab3b57dfe",
   "metadata": {},
   "outputs": [
    {
     "data": {
      "text/plain": [
       "{'Key': {'Name': 'Arnav', 'Class': 'CSB'}}"
      ]
     },
     "execution_count": 54,
     "metadata": {},
     "output_type": "execute_result"
    }
   ],
   "source": [
    "we"
   ]
  },
  {
   "cell_type": "code",
   "execution_count": 56,
   "id": "140cf7ce-9d17-4cbe-a4ce-14f40a9e0696",
   "metadata": {},
   "outputs": [
    {
     "data": {
      "text/plain": [
       "'CSB'"
      ]
     },
     "execution_count": 56,
     "metadata": {},
     "output_type": "execute_result"
    }
   ],
   "source": [
    "#Extract 'CSB'\n",
    "\n",
    "we[\"Key\"][\"Class\"]"
   ]
  },
  {
   "cell_type": "code",
   "execution_count": 66,
   "id": "6ba70a75-3018-4ce6-91cc-fb0515e7a9f3",
   "metadata": {},
   "outputs": [
    {
     "data": {
      "text/plain": [
       "{'Key': {'Name': 'Arnav', 'Class': 'CSB'}, 'Key2': 'Shashank'}"
      ]
     },
     "execution_count": 66,
     "metadata": {},
     "output_type": "execute_result"
    }
   ],
   "source": [
    "# Adding a Key\n",
    "we[\"Key2\"]=\"Shashank\"\n",
    "we"
   ]
  },
  {
   "cell_type": "code",
   "execution_count": 67,
   "id": "dbd90c89-3fd4-47c4-b8c7-986dcee971a8",
   "metadata": {},
   "outputs": [],
   "source": [
    "# Deleting a Key\n",
    "del we['Key2']"
   ]
  },
  {
   "cell_type": "code",
   "execution_count": 68,
   "id": "df50b8b8-0826-46bb-85e6-63f454f3caa1",
   "metadata": {},
   "outputs": [
    {
     "data": {
      "text/plain": [
       "{'Key': {'Name': 'Arnav', 'Class': 'CSB'}}"
      ]
     },
     "execution_count": 68,
     "metadata": {},
     "output_type": "execute_result"
    }
   ],
   "source": [
    "we"
   ]
  },
  {
   "cell_type": "code",
   "execution_count": 69,
   "id": "d9ad97b4-08ff-4f40-86da-a55bbcca54d4",
   "metadata": {},
   "outputs": [],
   "source": [
    "# Empty a Dictionary\n",
    "we.clear()"
   ]
  },
  {
   "cell_type": "code",
   "execution_count": 70,
   "id": "bb1380de-a510-40c9-9e75-e6a3f6fc555c",
   "metadata": {},
   "outputs": [
    {
     "data": {
      "text/plain": [
       "{}"
      ]
     },
     "execution_count": 70,
     "metadata": {},
     "output_type": "execute_result"
    }
   ],
   "source": [
    "we"
   ]
  },
  {
   "cell_type": "code",
   "execution_count": 73,
   "id": "73f2fa32-0acb-44db-86a8-2f908f0e6e1e",
   "metadata": {},
   "outputs": [
    {
     "data": {
      "text/plain": [
       "5"
      ]
     },
     "execution_count": 73,
     "metadata": {},
     "output_type": "execute_result"
    }
   ],
   "source": [
    "# Length of a Dictionary(No. of Key-Value Pairs)\n",
    "len(qw)"
   ]
  },
  {
   "cell_type": "code",
   "execution_count": 72,
   "id": "7a737ef4-8905-4462-8a8e-bcd65737d0e4",
   "metadata": {},
   "outputs": [
    {
     "data": {
      "text/plain": [
       "{'Batch Name': ['Data Dcience', 'DSA', 'Java'],\n",
       " 'Mentors': ('Krish Naik', 'Sudhanshu', 'Shobha Tyagi'),\n",
       " 'Start_date': [14, 28, 21],\n",
       " 'timings': (4, 6, 8),\n",
       " 'College': 'Manav Rachna'}"
      ]
     },
     "execution_count": 72,
     "metadata": {},
     "output_type": "execute_result"
    }
   ],
   "source": [
    "qw"
   ]
  },
  {
   "cell_type": "code",
   "execution_count": 74,
   "id": "36d411b2-1c55-4c51-8b24-3799bc31f99b",
   "metadata": {},
   "outputs": [
    {
     "data": {
      "text/plain": [
       "dict_keys(['Batch Name', 'Mentors', 'Start_date', 'timings', 'College'])"
      ]
     },
     "execution_count": 74,
     "metadata": {},
     "output_type": "execute_result"
    }
   ],
   "source": [
    "# Extract all the Keys\n",
    "qw.keys()"
   ]
  },
  {
   "cell_type": "code",
   "execution_count": 76,
   "id": "b876ea35-481a-4eb0-aafe-08405dc3c781",
   "metadata": {},
   "outputs": [
    {
     "data": {
      "text/plain": [
       "dict_values([['Data Dcience', 'DSA', 'Java'], ('Krish Naik', 'Sudhanshu', 'Shobha Tyagi'), [14, 28, 21], (4, 6, 8), 'Manav Rachna'])"
      ]
     },
     "execution_count": 76,
     "metadata": {},
     "output_type": "execute_result"
    }
   ],
   "source": [
    "# Extract all the Values\n",
    "qw.values()"
   ]
  },
  {
   "cell_type": "code",
   "execution_count": 78,
   "id": "12719c1d-a5cf-42d7-a7ae-6475c05cd1ec",
   "metadata": {},
   "outputs": [
    {
     "data": {
      "text/plain": [
       "[['Data Dcience', 'DSA', 'Java'],\n",
       " ('Krish Naik', 'Sudhanshu', 'Shobha Tyagi'),\n",
       " [14, 28, 21],\n",
       " (4, 6, 8),\n",
       " 'Manav Rachna']"
      ]
     },
     "execution_count": 78,
     "metadata": {},
     "output_type": "execute_result"
    }
   ],
   "source": [
    "# Can we Convert the values into a List?\n",
    "# Yes, using Type Conversion\n",
    "list(qw.values())"
   ]
  },
  {
   "cell_type": "code",
   "execution_count": 79,
   "id": "5a15a814-8fba-4feb-bf65-06accf0ed1c4",
   "metadata": {},
   "outputs": [
    {
     "data": {
      "text/plain": [
       "['Batch Name', 'Mentors', 'Start_date', 'timings', 'College']"
      ]
     },
     "execution_count": 79,
     "metadata": {},
     "output_type": "execute_result"
    }
   ],
   "source": [
    "list(qw)"
   ]
  },
  {
   "cell_type": "code",
   "execution_count": 80,
   "id": "bd44f695-becf-41fc-b280-da5b09809ceb",
   "metadata": {},
   "outputs": [
    {
     "data": {
      "text/plain": [
       "[('Batch Name', ['Data Dcience', 'DSA', 'Java']),\n",
       " ('Mentors', ('Krish Naik', 'Sudhanshu', 'Shobha Tyagi')),\n",
       " ('Start_date', [14, 28, 21]),\n",
       " ('timings', (4, 6, 8)),\n",
       " ('College', 'Manav Rachna')]"
      ]
     },
     "execution_count": 80,
     "metadata": {},
     "output_type": "execute_result"
    }
   ],
   "source": [
    "list(qw.items())"
   ]
  },
  {
   "cell_type": "code",
   "execution_count": 85,
   "id": "dcfe4254-c0fd-42e9-b064-02770d861a93",
   "metadata": {},
   "outputs": [],
   "source": [
    "## Question: Create a Replica of a Dictionary\n",
    "## Solution:\n",
    "xyz=qw.copy()\n",
    "\n",
    "# We could've also assigned without using .copy() but after that qw and xyz would be related to each other"
   ]
  },
  {
   "cell_type": "code",
   "execution_count": 86,
   "id": "1fe70d88-4ded-4123-8fc7-987a56d1163e",
   "metadata": {},
   "outputs": [
    {
     "data": {
      "text/plain": [
       "{'Batch Name': ['Data Dcience', 'DSA', 'Java'],\n",
       " 'Mentors': ('Krish Naik', 'Sudhanshu', 'Shobha Tyagi'),\n",
       " 'Start_date': [14, 28, 21],\n",
       " 'timings': (4, 6, 8),\n",
       " 'College': 'Manav Rachna'}"
      ]
     },
     "execution_count": 86,
     "metadata": {},
     "output_type": "execute_result"
    }
   ],
   "source": [
    "xyz"
   ]
  },
  {
   "cell_type": "code",
   "execution_count": 88,
   "id": "8ca44b1f-3c23-43ac-93f0-981f9940db18",
   "metadata": {},
   "outputs": [
    {
     "data": {
      "text/plain": [
       "(4, 6, 8)"
      ]
     },
     "execution_count": 88,
     "metadata": {},
     "output_type": "execute_result"
    }
   ],
   "source": [
    "# Popping a Key-Value Pair\n",
    "xyz.pop(\"timings\")"
   ]
  },
  {
   "cell_type": "code",
   "execution_count": 89,
   "id": "0e690f0d-0013-46fd-af65-b55d94ba8538",
   "metadata": {},
   "outputs": [
    {
     "data": {
      "text/plain": [
       "{'Batch Name': ['Data Dcience', 'DSA', 'Java'],\n",
       " 'Mentors': ('Krish Naik', 'Sudhanshu', 'Shobha Tyagi'),\n",
       " 'Start_date': [14, 28, 21],\n",
       " 'College': 'Manav Rachna'}"
      ]
     },
     "execution_count": 89,
     "metadata": {},
     "output_type": "execute_result"
    }
   ],
   "source": [
    "# Check that the pair is popped\n",
    "xyz"
   ]
  },
  {
   "cell_type": "code",
   "execution_count": 94,
   "id": "a43b3730-c0d4-4a92-b730-81122af9d451",
   "metadata": {},
   "outputs": [
    {
     "data": {
      "text/plain": [
       "{1: ('a', 'b', 'd'), 2: ('a', 'b', 'd'), 3: ('a', 'b', 'd')}"
      ]
     },
     "execution_count": 94,
     "metadata": {},
     "output_type": "execute_result"
    }
   ],
   "source": [
    "# Create Keys and Values using fromkeys()\n",
    "\n",
    "qw.fromkeys((1,2,3),('a','b','d'))"
   ]
  },
  {
   "cell_type": "code",
   "execution_count": 95,
   "id": "6b0d14d1-66f9-4b05-a4e3-bf5c88eda5ca",
   "metadata": {},
   "outputs": [],
   "source": [
    "aq={\"k1\":\"v1\",\"k2\":\"v2\"}\n",
    "qa={\"k3\":\"v3\",\"k4\":\"v4\"}"
   ]
  },
  {
   "cell_type": "code",
   "execution_count": 96,
   "id": "89a1bd1d-d5ab-431a-a72e-c2f8a42bbd19",
   "metadata": {},
   "outputs": [
    {
     "data": {
      "text/plain": [
       "({'k1': 'v1', 'k2': 'v2'}, {'k3': 'v3', 'k4': 'v4'})"
      ]
     },
     "execution_count": 96,
     "metadata": {},
     "output_type": "execute_result"
    }
   ],
   "source": [
    "(aq,qa)"
   ]
  },
  {
   "cell_type": "code",
   "execution_count": 97,
   "id": "1a31546f-325a-4062-ae2d-71d27b698866",
   "metadata": {},
   "outputs": [],
   "source": [
    "# Merge aq in qa using .update()\n",
    "qa.update(aq)"
   ]
  },
  {
   "cell_type": "code",
   "execution_count": 98,
   "id": "be38a417-3085-4785-9546-6eda1f8bb9a0",
   "metadata": {},
   "outputs": [
    {
     "data": {
      "text/plain": [
       "({'k3': 'v3', 'k4': 'v4', 'k1': 'v1', 'k2': 'v2'}, {'k1': 'v1', 'k2': 'v2'})"
      ]
     },
     "execution_count": 98,
     "metadata": {},
     "output_type": "execute_result"
    }
   ],
   "source": [
    "qa,aq"
   ]
  },
  {
   "cell_type": "markdown",
   "id": "657b17d2-679c-4df6-87a5-8b46cd71d645",
   "metadata": {},
   "source": [
    "# Dictionary Comprehension"
   ]
  },
  {
   "cell_type": "code",
   "execution_count": 107,
   "id": "000433c0-fd8d-4104-b4ae-c349d1d94511",
   "metadata": {},
   "outputs": [
    {
     "data": {
      "text/plain": [
       "{0: 0, 1: 1, 2: 4, 3: 9, 4: 16, 5: 25, 6: 36}"
      ]
     },
     "execution_count": 107,
     "metadata": {},
     "output_type": "execute_result"
    }
   ],
   "source": [
    "# We're Looking for a Dictionary where Keys are (1-6) and Values are the squares of Key Values respectively\n",
    "df={i:i**2 for i in range(7)}\n",
    "df"
   ]
  },
  {
   "cell_type": "code",
   "execution_count": 108,
   "id": "8a6e9686-38d7-43c7-b207-c0e324c58346",
   "metadata": {},
   "outputs": [
    {
     "data": {
      "text/plain": [
       "{0: True, 1: False, 2: True, 3: False, 4: True, 5: False, 6: True}"
      ]
     },
     "execution_count": 108,
     "metadata": {},
     "output_type": "execute_result"
    }
   ],
   "source": [
    "# Filter Out those Values Where Keys are Even\n",
    "{i: i%2==0 for i in df.keys()} "
   ]
  },
  {
   "cell_type": "code",
   "execution_count": null,
   "id": "3811950f-e51f-4dd8-ac99-68b32c957fea",
   "metadata": {},
   "outputs": [],
   "source": []
  }
 ],
 "metadata": {
  "kernelspec": {
   "display_name": "Python 3 (ipykernel)",
   "language": "python",
   "name": "python3"
  },
  "language_info": {
   "codemirror_mode": {
    "name": "ipython",
    "version": 3
   },
   "file_extension": ".py",
   "mimetype": "text/x-python",
   "name": "python",
   "nbconvert_exporter": "python",
   "pygments_lexer": "ipython3",
   "version": "3.10.8"
  }
 },
 "nbformat": 4,
 "nbformat_minor": 5
}
