{
 "cells": [
  {
   "cell_type": "code",
   "execution_count": 1,
   "id": "44928e67-dbe1-4658-b70d-f7a8237a561a",
   "metadata": {},
   "outputs": [
    {
     "data": {
      "text/plain": [
       "112"
      ]
     },
     "execution_count": 1,
     "metadata": {},
     "output_type": "execute_result"
    }
   ],
   "source": [
    "int('112')"
   ]
  },
  {
   "cell_type": "code",
   "execution_count": 4,
   "id": "01346709-5577-4f2b-b53e-dbb33dbb0f28",
   "metadata": {},
   "outputs": [
    {
     "name": "stdout",
     "output_type": "stream",
     "text": [
      "Hello World\n"
     ]
    }
   ],
   "source": [
    "print(\"Hello World\")"
   ]
  },
  {
   "cell_type": "code",
   "execution_count": 5,
   "id": "ec3d58d6-0a01-4d29-8350-4eb52860100e",
   "metadata": {},
   "outputs": [
    {
     "name": "stdout",
     "output_type": "stream",
     "text": [
      "123\n"
     ]
    }
   ],
   "source": [
    "print(123)"
   ]
  },
  {
   "cell_type": "code",
   "execution_count": 6,
   "id": "5e82f761-560c-4bc9-b2e1-34c27be1e1ed",
   "metadata": {},
   "outputs": [
    {
     "name": "stdout",
     "output_type": "stream",
     "text": [
      "My Age is 20\n"
     ]
    }
   ],
   "source": [
    "age = 20\n",
    "print(\"My Age is\",age)"
   ]
  },
  {
   "cell_type": "code",
   "execution_count": 7,
   "id": "c7701c4a-10dc-4345-bd73-56a3d4228b65",
   "metadata": {},
   "outputs": [
    {
     "name": "stdout",
     "output_type": "stream",
     "text": [
      "My age is {age}\n"
     ]
    }
   ],
   "source": [
    "print(\"My age is {age}\")"
   ]
  },
  {
   "cell_type": "code",
   "execution_count": 8,
   "id": "3c5da7e6-f47e-4813-ae71-3526921c8ce0",
   "metadata": {},
   "outputs": [
    {
     "name": "stdout",
     "output_type": "stream",
     "text": [
      "My age is 20\n"
     ]
    }
   ],
   "source": [
    "# f string\n",
    "print(f\"My age is {age}\")"
   ]
  },
  {
   "cell_type": "code",
   "execution_count": 9,
   "id": "b3a087a5-7523-445a-9117-6b12765708dc",
   "metadata": {},
   "outputs": [
    {
     "name": "stdout",
     "output_type": "stream",
     "text": [
      "My name is Arnav and my age is 20\n"
     ]
    }
   ],
   "source": [
    "## format() \n",
    "name=\"Arnav\"\n",
    "age=\"20\"\n",
    "print(\"My name is {} and my age is {}\".format(name,age))"
   ]
  },
  {
   "cell_type": "code",
   "execution_count": 10,
   "id": "7293caab-f036-47b7-9351-bb549a125b32",
   "metadata": {},
   "outputs": [
    {
     "name": "stdout",
     "output_type": "stream",
     "text": [
      "My name is Arnav and my age is 20\n"
     ]
    }
   ],
   "source": [
    "# PlaceHolder\n",
    "print(\"My name is {x} and my age is {y}\".format(x=name,y=age))"
   ]
  },
  {
   "cell_type": "code",
   "execution_count": 11,
   "id": "9aba7e50-1e42-4caf-a1e7-01faad4f63c0",
   "metadata": {},
   "outputs": [
    {
     "name": "stdout",
     "output_type": "stream",
     "text": [
      "My age is 20 and I have completed my degree of B.Tech with the name of Arnav\n"
     ]
    }
   ],
   "source": [
    "name = \"Arnav\"\n",
    "age = 20\n",
    "degree = \"B.Tech\"\n",
    "\n",
    "print(\"My age is {} and I have completed my degree of {} with the name of {}\".format(age,degree,name))"
   ]
  },
  {
   "cell_type": "code",
   "execution_count": 12,
   "id": "7d8700c9-f5c7-498a-9eb5-8775cbae8b3e",
   "metadata": {},
   "outputs": [
    {
     "name": "stdout",
     "output_type": "stream",
     "text": [
      "My age is 20 and I have completed my degree of B.Tech with the name of Arnav\n"
     ]
    }
   ],
   "source": [
    "print(\"My age is {x} and I have completed my degree of {y} with the name of {z}\".format(x=age,y=degree,z=name))"
   ]
  },
  {
   "cell_type": "code",
   "execution_count": 13,
   "id": "2473764c-729d-4c67-a04a-e0c81c04fce9",
   "metadata": {},
   "outputs": [
    {
     "name": "stdout",
     "output_type": "stream",
     "text": [
      "My age is 20 and I have completed my degree of B.Tech with the name of Arnav\n"
     ]
    }
   ],
   "source": [
    "print(f\"My age is {age} and I have completed my degree of {degree} with the name of {name}\")"
   ]
  },
  {
   "cell_type": "markdown",
   "id": "376a534a-44d1-465e-80ca-fa641413f47b",
   "metadata": {},
   "source": [
    "## Control Flow"
   ]
  },
  {
   "cell_type": "markdown",
   "id": "02bb6b13-cadd-454e-bfcf-042dd1894d84",
   "metadata": {},
   "source": [
    "## Decision Making Statements \n",
    "* if\n",
    "* if else\n",
    "* if elif else\n",
    "* Nested if\n",
    "* Single Statement Suites"
   ]
  },
  {
   "cell_type": "code",
   "execution_count": 16,
   "id": "21650c36-c449-4746-b374-a832a3e6754d",
   "metadata": {},
   "outputs": [
    {
     "name": "stdout",
     "output_type": "stream",
     "text": [
      "Allowed to Vote\n"
     ]
    }
   ],
   "source": [
    "## if statement\n",
    "age = 20\n",
    "if age >= 18:\n",
    "    print(\"Allowed to Vote\")"
   ]
  },
  {
   "cell_type": "code",
   "execution_count": 17,
   "id": "2d1b1470-d475-4851-9a9b-5ff47f29dc46",
   "metadata": {},
   "outputs": [
    {
     "name": "stdin",
     "output_type": "stream",
     "text": [
      " Arnav Lakha\n"
     ]
    },
    {
     "data": {
      "text/plain": [
       "'Arnav Lakha'"
      ]
     },
     "execution_count": 17,
     "metadata": {},
     "output_type": "execute_result"
    }
   ],
   "source": [
    "input()"
   ]
  },
  {
   "cell_type": "code",
   "execution_count": 18,
   "id": "68c8ba58-93e8-492e-b01c-f1757f2c2b54",
   "metadata": {},
   "outputs": [
    {
     "name": "stdin",
     "output_type": "stream",
     "text": [
      "Enter Age 20\n"
     ]
    },
    {
     "data": {
      "text/plain": [
       "'20'"
      ]
     },
     "execution_count": 18,
     "metadata": {},
     "output_type": "execute_result"
    }
   ],
   "source": [
    "input(\"Enter Age\")"
   ]
  },
  {
   "cell_type": "code",
   "execution_count": 29,
   "id": "e5952c4d-a6be-48fc-90bb-329532eaa8b1",
   "metadata": {},
   "outputs": [
    {
     "name": "stdin",
     "output_type": "stream",
     "text": [
      "Enter Age 20\n"
     ]
    },
    {
     "name": "stdout",
     "output_type": "stream",
     "text": [
      "You are Young\n"
     ]
    }
   ],
   "source": [
    "## TAsk 1\n",
    "# Take input of Age\n",
    "# Check whether age>=18 and age <=45\n",
    "# Display \"You are Young\"\n",
    "\n",
    "age = int(input(\"Enter Age\"))\n",
    "if age>=18 and age<=45:\n",
    "    print(\"You are Young\")\n"
   ]
  },
  {
   "cell_type": "code",
   "execution_count": 33,
   "id": "21196c06-2201-4349-bffa-0b23cd783680",
   "metadata": {},
   "outputs": [
    {
     "name": "stdin",
     "output_type": "stream",
     "text": [
      "Enter Age 15\n"
     ]
    },
    {
     "name": "stdout",
     "output_type": "stream",
     "text": [
      "Not Interested\n"
     ]
    }
   ],
   "source": [
    "## if else statement\n",
    "age = int(input(\"Enter Age\"))\n",
    "if age>=18 and age<=45:\n",
    "    print(\"You are Young\")\n",
    "else:\n",
    "    print(\"Not Interested\")\n",
    "\n"
   ]
  },
  {
   "cell_type": "code",
   "execution_count": 40,
   "id": "dca2ae9f-d48b-4dcc-b4d3-28ea8effe009",
   "metadata": {},
   "outputs": [
    {
     "name": "stdin",
     "output_type": "stream",
     "text": [
      "Price is 500\n"
     ]
    },
    {
     "name": "stdout",
     "output_type": "stream",
     "text": [
      "Eligible for 30%,new price is 350.0\n"
     ]
    }
   ],
   "source": [
    "# product > 1000, 20% off\n",
    "# product <=1000, 30% off\n",
    "\n",
    "mrp = int(input(\"Price is\"))\n",
    "if mrp>1000:\n",
    "    print(\"Eligible for 20%, new price is {x}\".format(x=mrp*0.8))\n",
    "elif mrp<=1000:\n",
    "    print(\"Eligible for 30%,new price is {y}\".format(y=mrp*0.7))"
   ]
  },
  {
   "cell_type": "code",
   "execution_count": 42,
   "id": "45475067-5934-4bdb-afa4-3093ae8fcbca",
   "metadata": {},
   "outputs": [
    {
     "name": "stdin",
     "output_type": "stream",
     "text": [
      "Price is 500\n"
     ]
    },
    {
     "name": "stdout",
     "output_type": "stream",
     "text": [
      "Eligible for 30%,new price is 350.0\n"
     ]
    }
   ],
   "source": [
    "# product > 1000, 20% off\n",
    "# product <=1000, 30% off\n",
    "\n",
    "mrp = int(input(\"Price is\"))\n",
    "if mrp>1000:\n",
    "    print(f\"Eligible for 20%, new price is {mrp*0.8}\")\n",
    "elif mrp<=1000:\n",
    "    print(f\"Eligible for 30%,new price is {mrp*0.7}\")"
   ]
  },
  {
   "cell_type": "code",
   "execution_count": 1,
   "id": "13a14fca-5f5d-4fcf-9ae9-097c985d5b60",
   "metadata": {},
   "outputs": [],
   "source": [
    "# mall\n",
    "# product > 3000 , 20% off\n",
    "# print product price after discount\n",
    "# product >= 2000 and <= 3000, 30% off\n",
    "# product >= 1000 and <=2000, 40% off\n",
    "## price = 2999, u will get  an additional gift\n",
    "## price = 4000, trip to goa"
   ]
  },
  {
   "cell_type": "code",
   "execution_count": 5,
   "id": "fa225371-fee2-4297-ab2e-4d641bdecdae",
   "metadata": {},
   "outputs": [
    {
     "name": "stdin",
     "output_type": "stream",
     "text": [
      "Price is:  4000\n"
     ]
    },
    {
     "name": "stdout",
     "output_type": "stream",
     "text": [
      "Congo! You have won a trip to Goa\n",
      "Eligible for 20%, new price is 3200.0\n"
     ]
    }
   ],
   "source": [
    "mrp = int(input(\"Price is: \"))\n",
    "if mrp>3000:\n",
    "    if mrp==4000:\n",
    "        print(\"Congo! You have won a trip to Goa\")\n",
    "    print(f\"Eligible for 20%, new price is {mrp*0.8}\")\n",
    "elif mrp>=2000 and mrp<=3000:\n",
    "    if mrp==2999:\n",
    "        print(\"Congratulations, u will get an additional gift\")\n",
    "    print(f\"Eligible for 30%, new price is {mrp*0.7}\")\n",
    "elif mrp>=1000 and mrp<=2000:\n",
    "    print(f\"Eligible for 40%,new price is {mrp*0.6}\")\n",
    "elif mrp<1000:\n",
    "    print(f\"No Discount Available,price is {mrp}\")"
   ]
  },
  {
   "cell_type": "code",
   "execution_count": 46,
   "id": "715fc225-050f-48a7-b864-f0d9a6621cf5",
   "metadata": {},
   "outputs": [
    {
     "name": "stdin",
     "output_type": "stream",
     "text": [
      "Enter a Number:  555\n"
     ]
    },
    {
     "name": "stdout",
     "output_type": "stream",
     "text": [
      "Value is less than Thousand\n"
     ]
    }
   ],
   "source": [
    " # Single Statement Suites\n",
    "\n",
    "val=int(input(\"Enter a Number: \"))\n",
    "if val<=999: print(\"Value is less than Thousand\")"
   ]
  },
  {
   "cell_type": "markdown",
   "id": "0dd2f92e-0841-448a-ab2e-f5bd7dd33f6d",
   "metadata": {},
   "source": [
    "# Loops\n",
    "1. While Loop\n",
    "2. For Loop\n",
    "3. Nested Loops\n",
    "4. Loop Control(Break,continue,Pass)"
   ]
  },
  {
   "cell_type": "code",
   "execution_count": 11,
   "id": "9309612b-a1e8-4e72-b3a0-d47840ae4b91",
   "metadata": {},
   "outputs": [
    {
     "name": "stdout",
     "output_type": "stream",
     "text": [
      "20\n",
      "21\n",
      "22\n",
      "23\n",
      "24\n",
      "25\n",
      "26\n",
      "27\n",
      "28\n",
      "29\n",
      "30\n",
      "31\n",
      "32\n",
      "33\n",
      "34\n",
      "35\n",
      "36\n",
      "37\n",
      "38\n",
      "39\n",
      "40\n",
      "You're Not Young\n"
     ]
    }
   ],
   "source": [
    "# While Loop\n",
    "age=20\n",
    "while age<=40:\n",
    "    print(age)\n",
    "    age = age+1\n",
    "else:\n",
    "    print(\"You're Not Young\")"
   ]
  },
  {
   "cell_type": "code",
   "execution_count": 12,
   "id": "84f81b11-b82f-4f7e-97d8-ff9e8c3c18a5",
   "metadata": {},
   "outputs": [
    {
     "name": "stdout",
     "output_type": "stream",
     "text": [
      "0\n",
      "2\n",
      "4\n",
      "6\n",
      "8\n",
      "10\n",
      "12\n",
      "14\n",
      "16\n",
      "18\n",
      "20\n",
      "22\n",
      "24\n",
      "26\n",
      "28\n",
      "30\n",
      "32\n",
      "34\n",
      "36\n",
      "38\n",
      "40\n",
      "42\n",
      "44\n",
      "46\n",
      "The above are Even Numbers less than 48\n"
     ]
    }
   ],
   "source": [
    "# While Loop to print Even Numbers less than 48\n",
    "\n",
    "num=0\n",
    "while num<48:\n",
    "    print(num)\n",
    "    num=num+2\n",
    "else:\n",
    "    print(\"The above are Even Numbers less than 48\")"
   ]
  },
  {
   "cell_type": "code",
   "execution_count": 13,
   "id": "6c03a683-4102-4015-b0b3-c60bda3285a2",
   "metadata": {},
   "outputs": [
    {
     "name": "stdout",
     "output_type": "stream",
     "text": [
      "1000\n",
      "900\n",
      "800\n",
      "700\n",
      "600\n",
      "500\n",
      "400\n",
      "300\n",
      "200\n",
      "100\n",
      "ATM EMPTY\n"
     ]
    }
   ],
   "source": [
    "## ATM Machine with 1000 Rupees\n",
    "amt=1000\n",
    "while amt!=0:\n",
    "    print(amt)\n",
    "    amt=amt-100\n",
    "else:\n",
    "    print(\"ATM EMPTY\")"
   ]
  },
  {
   "cell_type": "markdown",
   "id": "217203a0-66c7-494d-bac0-3d20095da000",
   "metadata": {},
   "source": [
    "# For Loop"
   ]
  },
  {
   "cell_type": "code",
   "execution_count": 16,
   "id": "87b8c5f6-f046-467e-84e7-ed1f9e03842b",
   "metadata": {},
   "outputs": [],
   "source": [
    "lst=['Arnav',112,106,115,126,193,'gym']\n"
   ]
  },
  {
   "cell_type": "code",
   "execution_count": 17,
   "id": "4962bf1a-7bb3-4ea7-bc14-e42f45f3c4c7",
   "metadata": {},
   "outputs": [
    {
     "data": {
      "text/plain": [
       "list"
      ]
     },
     "execution_count": 17,
     "metadata": {},
     "output_type": "execute_result"
    }
   ],
   "source": [
    "type(lst)"
   ]
  },
  {
   "cell_type": "code",
   "execution_count": 20,
   "id": "f7007bd4-29c5-4855-9343-c59ed9e1a00b",
   "metadata": {},
   "outputs": [
    {
     "data": {
      "text/plain": [
       "'Arnav'"
      ]
     },
     "execution_count": 20,
     "metadata": {},
     "output_type": "execute_result"
    }
   ],
   "source": [
    "lst[0]"
   ]
  },
  {
   "cell_type": "code",
   "execution_count": 21,
   "id": "beac2c91-549f-485b-8fef-07bbc8343d02",
   "metadata": {},
   "outputs": [
    {
     "name": "stdout",
     "output_type": "stream",
     "text": [
      "Arnav\n",
      "112\n",
      "106\n",
      "115\n",
      "126\n",
      "193\n",
      "gym\n"
     ]
    }
   ],
   "source": [
    "for x in lst:\n",
    "    print(x)"
   ]
  },
  {
   "cell_type": "code",
   "execution_count": 2,
   "id": "90a1b20d-f42a-4f59-969d-51b38bbdb6c5",
   "metadata": {},
   "outputs": [],
   "source": [
    "lst=['Arnav',112,67]"
   ]
  },
  {
   "cell_type": "code",
   "execution_count": 8,
   "id": "a0c969cd-59c8-4721-aa4c-3a127e5ed69b",
   "metadata": {},
   "outputs": [
    {
     "name": "stdout",
     "output_type": "stream",
     "text": [
      "Arnav\n",
      "112\n",
      "Roll No\n"
     ]
    }
   ],
   "source": [
    "for x in lst:\n",
    "    print(x)\n",
    "    if x== 112:\n",
    "        print(\"Roll No\")\n",
    "        break"
   ]
  },
  {
   "cell_type": "code",
   "execution_count": 10,
   "id": "39d35a33-e0bc-4bcc-b93b-5ebeddcd6e45",
   "metadata": {},
   "outputs": [
    {
     "name": "stdout",
     "output_type": "stream",
     "text": [
      "A\n",
      "r\n",
      "n\n",
      "a\n",
      "v\n"
     ]
    }
   ],
   "source": [
    "name=\"Arnav\"\n",
    "for x in name:\n",
    "    print(x)"
   ]
  },
  {
   "cell_type": "code",
   "execution_count": 14,
   "id": "64a06a96-5265-49b1-b7ac-429a24a6f034",
   "metadata": {},
   "outputs": [
    {
     "name": "stdout",
     "output_type": "stream",
     "text": [
      "1\n",
      "2\n",
      "3\n",
      "4\n",
      "5\n"
     ]
    }
   ],
   "source": [
    "for i in range(1,6):\n",
    "    print(i)"
   ]
  },
  {
   "cell_type": "code",
   "execution_count": 15,
   "id": "7fa74773-7703-4172-bd76-8271a70543a9",
   "metadata": {},
   "outputs": [
    {
     "name": "stdout",
     "output_type": "stream",
     "text": [
      "1\n",
      "3\n",
      "5\n"
     ]
    }
   ],
   "source": [
    "for i in range(1,6,2):\n",
    "    print(i)"
   ]
  },
  {
   "cell_type": "code",
   "execution_count": 27,
   "id": "73ea6cc4-fb02-4fe1-a418-9851d252fc83",
   "metadata": {},
   "outputs": [
    {
     "name": "stdout",
     "output_type": "stream",
     "text": [
      "*\n",
      "**\n",
      "***\n",
      "****\n",
      "*****\n",
      "******\n"
     ]
    }
   ],
   "source": [
    "### Nested Loops\n",
    "n=6\n",
    "\n",
    "for i in range(0,n):\n",
    "    for j in range(0,i+1):\n",
    "        print(\"*\",end=\"\")\n",
    "    print(\"\\r\")"
   ]
  },
  {
   "cell_type": "code",
   "execution_count": 32,
   "id": "871e3cff-4685-4210-9b64-bc0d0b5731e2",
   "metadata": {},
   "outputs": [
    {
     "name": "stdout",
     "output_type": "stream",
     "text": [
      "*\n",
      "**\n",
      "***\n"
     ]
    }
   ],
   "source": [
    "n=3\n",
    "\n",
    "for i in range(0,n):\n",
    "    for j in range(0,i+1):\n",
    "        print(\"*\",end=\"\")\n",
    "    print(\"\\r\")"
   ]
  },
  {
   "cell_type": "code",
   "execution_count": 33,
   "id": "0bf16bb1-320b-4b9e-bcb6-f68ec8e1bc62",
   "metadata": {},
   "outputs": [],
   "source": [
    "## Break and Continue\n",
    "\n",
    "student=['Arnav',112,'BTech','CSE']\n"
   ]
  },
  {
   "cell_type": "code",
   "execution_count": 42,
   "id": "32fdb1aa-c5c2-4ee6-bd03-9625123b84d8",
   "metadata": {},
   "outputs": [
    {
     "name": "stdout",
     "output_type": "stream",
     "text": [
      "Arnav\n",
      "112\n",
      "Degree\n"
     ]
    }
   ],
   "source": [
    "# Break\n",
    "\n",
    "for n in student:\n",
    "    if n=='BTech':\n",
    "        print(\"Degree\")\n",
    "        break\n",
    "    print(n)"
   ]
  },
  {
   "cell_type": "code",
   "execution_count": 43,
   "id": "733e72ba-50c4-4996-b795-f08176488934",
   "metadata": {},
   "outputs": [
    {
     "name": "stdout",
     "output_type": "stream",
     "text": [
      "Arnav\n",
      "112\n",
      "Degree\n",
      "BTech\n",
      "CSE\n"
     ]
    }
   ],
   "source": [
    "# Pass\n",
    "\n",
    "for n in student:\n",
    "    if n=='BTech':\n",
    "        print(\"Degree\")\n",
    "        pass\n",
    "    print(n)"
   ]
  },
  {
   "cell_type": "code",
   "execution_count": 44,
   "id": "3b89996b-df9f-4d71-8c20-55c3f167db73",
   "metadata": {},
   "outputs": [
    {
     "name": "stdout",
     "output_type": "stream",
     "text": [
      "Arnav\n",
      "112\n",
      "Degree\n",
      "CSE\n"
     ]
    }
   ],
   "source": [
    "# Continue\n",
    "\n",
    "for i in student:\n",
    "    if i=='BTech':\n",
    "        print(\"Degree\")\n",
    "        continue\n",
    "    print(i)"
   ]
  },
  {
   "cell_type": "code",
   "execution_count": 3,
   "id": "26db7403-1518-453c-ba3b-7d1ab3d76be9",
   "metadata": {},
   "outputs": [
    {
     "name": "stdout",
     "output_type": "stream",
     "text": [
      "*\n",
      "**\n",
      "***\n",
      "****\n"
     ]
    }
   ],
   "source": [
    "n=4\n",
    "\n",
    "for i in range(0,n):\n",
    "    for j in range(0,i+1):\n",
    "        print(\"*\",end=\"\")\n",
    "    print(\"\\r\")"
   ]
  },
  {
   "cell_type": "code",
   "execution_count": null,
   "id": "bbf5bbe5-2622-4376-936f-6aee4fe1c6c3",
   "metadata": {},
   "outputs": [],
   "source": []
  }
 ],
 "metadata": {
  "kernelspec": {
   "display_name": "Python 3 (ipykernel)",
   "language": "python",
   "name": "python3"
  },
  "language_info": {
   "codemirror_mode": {
    "name": "ipython",
    "version": 3
   },
   "file_extension": ".py",
   "mimetype": "text/x-python",
   "name": "python",
   "nbconvert_exporter": "python",
   "pygments_lexer": "ipython3",
   "version": "3.10.8"
  }
 },
 "nbformat": 4,
 "nbformat_minor": 5
}
